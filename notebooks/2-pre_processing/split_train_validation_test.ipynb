{
 "cells": [
  {
   "cell_type": "markdown",
   "metadata": {},
   "source": [
    "# Imports"
   ]
  },
  {
   "cell_type": "code",
   "execution_count": 16,
   "metadata": {},
   "outputs": [],
   "source": [
    "import pandas as pd\n",
    "from sklearn.model_selection import train_test_split"
   ]
  },
  {
   "cell_type": "markdown",
   "metadata": {},
   "source": [
    "# Divisão - Treino, Validação e Teste"
   ]
  },
  {
   "cell_type": "code",
   "execution_count": 17,
   "metadata": {},
   "outputs": [],
   "source": [
    "def split_train_validation_test(df, validation_size, test_size):\n",
    "    train_size = 1 - (validation_size + test_size)\n",
    "    df_train, df_test = train_test_split(\n",
    "        df, \n",
    "        test_size=1 - train_size, \n",
    "        random_state=42\n",
    "    )\n",
    "    df_validation, df_test = train_test_split(\n",
    "        df_test,\n",
    "        test_size=test_size/(test_size + validation_size),\n",
    "        random_state=42\n",
    "    )\n",
    "    return df_train, df_validation, df_test"
   ]
  },
  {
   "cell_type": "markdown",
   "metadata": {},
   "source": [
    "# Run"
   ]
  },
  {
   "cell_type": "code",
   "execution_count": 18,
   "metadata": {},
   "outputs": [],
   "source": [
    "df = pd.read_csv('../../data/respostas-geradas-1.3k_tratada.csv')\n",
    "df = df.dropna()\n",
    "\n",
    "df_train, df_validation, df_test = split_train_validation_test(df, 0.1, 0.1)"
   ]
  },
  {
   "cell_type": "code",
   "execution_count": 19,
   "metadata": {},
   "outputs": [],
   "source": [
    "df_train.to_csv('../../data/train_base.csv',index=False)\n",
    "df_validation.to_csv('../../data/validation_base.csv', index=False)\n",
    "df_test.to_csv('../../data/test_base.csv', index=False)"
   ]
  },
  {
   "cell_type": "code",
   "execution_count": 20,
   "metadata": {},
   "outputs": [
    {
     "data": {
      "text/plain": [
       "((1088, 5), (136, 5), (137, 5))"
      ]
     },
     "execution_count": 20,
     "metadata": {},
     "output_type": "execute_result"
    }
   ],
   "source": [
    "df_train.shape, df_validation.shape, df_test.shape"
   ]
  },
  {
   "cell_type": "code",
   "execution_count": 21,
   "metadata": {},
   "outputs": [
    {
     "data": {
      "text/html": [
       "<div>\n",
       "<style scoped>\n",
       "    .dataframe tbody tr th:only-of-type {\n",
       "        vertical-align: middle;\n",
       "    }\n",
       "\n",
       "    .dataframe tbody tr th {\n",
       "        vertical-align: top;\n",
       "    }\n",
       "\n",
       "    .dataframe thead th {\n",
       "        text-align: right;\n",
       "    }\n",
       "</style>\n",
       "<table border=\"1\" class=\"dataframe\">\n",
       "  <thead>\n",
       "    <tr style=\"text-align: right;\">\n",
       "      <th></th>\n",
       "      <th>idSugestaoResposta</th>\n",
       "      <th>sugestaoResposta</th>\n",
       "      <th>comentario</th>\n",
       "      <th>IDComentarioFK</th>\n",
       "      <th>IDUsuarioFK</th>\n",
       "    </tr>\n",
       "  </thead>\n",
       "  <tbody>\n",
       "    <tr>\n",
       "      <th>1296</th>\n",
       "      <td>2133</td>\n",
       "      <td>Olá, agradecemos pelo seu feedback. Lamentamos...</td>\n",
       "      <td>Preço fora da realidade</td>\n",
       "      <td>48945</td>\n",
       "      <td>39603</td>\n",
       "    </tr>\n",
       "    <tr>\n",
       "      <th>398</th>\n",
       "      <td>1233</td>\n",
       "      <td>Olá, lamento muito pela sua má experiência em ...</td>\n",
       "      <td>Vá se vc quiser ser mal atendido e quiser sair...</td>\n",
       "      <td>9292</td>\n",
       "      <td>55912</td>\n",
       "    </tr>\n",
       "    <tr>\n",
       "      <th>1251</th>\n",
       "      <td>2089</td>\n",
       "      <td>Caro cliente, lamentamos profundamente pela má...</td>\n",
       "      <td>Nunca mais, preços caros, atendimento péssimo,...</td>\n",
       "      <td>203198</td>\n",
       "      <td>46144</td>\n",
       "    </tr>\n",
       "    <tr>\n",
       "      <th>54</th>\n",
       "      <td>891</td>\n",
       "      <td>Caro cliente, lamentamos profundamente pela ex...</td>\n",
       "      <td>Restaurante PÉSSIMO! Enquanto estive aqui houv...</td>\n",
       "      <td>138653</td>\n",
       "      <td>77001</td>\n",
       "    </tr>\n",
       "    <tr>\n",
       "      <th>1104</th>\n",
       "      <td>1941</td>\n",
       "      <td>Olá, agradecemos pelo seu feedback sobre a sua...</td>\n",
       "      <td>A comida nada de especial, nem maravilhosa\\ne ...</td>\n",
       "      <td>180441</td>\n",
       "      <td>91194</td>\n",
       "    </tr>\n",
       "    <tr>\n",
       "      <th>...</th>\n",
       "      <td>...</td>\n",
       "      <td>...</td>\n",
       "      <td>...</td>\n",
       "      <td>...</td>\n",
       "      <td>...</td>\n",
       "    </tr>\n",
       "    <tr>\n",
       "      <th>1099</th>\n",
       "      <td>1936</td>\n",
       "      <td>Caro cliente, agradecemos pelo seu feedback. L...</td>\n",
       "      <td>Sem ar condicionado muito quente u</td>\n",
       "      <td>189671</td>\n",
       "      <td>82817</td>\n",
       "    </tr>\n",
       "    <tr>\n",
       "      <th>1134</th>\n",
       "      <td>1971</td>\n",
       "      <td>Prezado cliente, agradecemos por compartilhar ...</td>\n",
       "      <td>Comida as vezes boa, mas o que incomoda é a gr...</td>\n",
       "      <td>67815</td>\n",
       "      <td>25373</td>\n",
       "    </tr>\n",
       "    <tr>\n",
       "      <th>1299</th>\n",
       "      <td>2136</td>\n",
       "      <td>Prezado cliente, lamentamos sinceramente pela ...</td>\n",
       "      <td>Fui no dia 10/12/21 às 11:00 o restaurante não...</td>\n",
       "      <td>123753</td>\n",
       "      <td>101705</td>\n",
       "    </tr>\n",
       "    <tr>\n",
       "      <th>864</th>\n",
       "      <td>1701</td>\n",
       "      <td>Caro cliente, agradecemos por compartilhar sua...</td>\n",
       "      <td>A comida e muito boa mas o atendimento deixa a...</td>\n",
       "      <td>112102</td>\n",
       "      <td>29082</td>\n",
       "    </tr>\n",
       "    <tr>\n",
       "      <th>1130</th>\n",
       "      <td>1967</td>\n",
       "      <td>Olá, agradecemos pelo seu feedback. Lamentamos...</td>\n",
       "      <td>Cuidado. Lugar bonitinho. Porém, sem muitas no...</td>\n",
       "      <td>8462</td>\n",
       "      <td>65729</td>\n",
       "    </tr>\n",
       "  </tbody>\n",
       "</table>\n",
       "<p>1088 rows × 5 columns</p>\n",
       "</div>"
      ],
      "text/plain": [
       "     idSugestaoResposta                                   sugestaoResposta  \\\n",
       "1296               2133  Olá, agradecemos pelo seu feedback. Lamentamos...   \n",
       "398                1233  Olá, lamento muito pela sua má experiência em ...   \n",
       "1251               2089  Caro cliente, lamentamos profundamente pela má...   \n",
       "54                  891  Caro cliente, lamentamos profundamente pela ex...   \n",
       "1104               1941  Olá, agradecemos pelo seu feedback sobre a sua...   \n",
       "...                 ...                                                ...   \n",
       "1099               1936  Caro cliente, agradecemos pelo seu feedback. L...   \n",
       "1134               1971  Prezado cliente, agradecemos por compartilhar ...   \n",
       "1299               2136  Prezado cliente, lamentamos sinceramente pela ...   \n",
       "864                1701  Caro cliente, agradecemos por compartilhar sua...   \n",
       "1130               1967  Olá, agradecemos pelo seu feedback. Lamentamos...   \n",
       "\n",
       "                                             comentario IDComentarioFK  \\\n",
       "1296                            Preço fora da realidade          48945   \n",
       "398   Vá se vc quiser ser mal atendido e quiser sair...           9292   \n",
       "1251  Nunca mais, preços caros, atendimento péssimo,...         203198   \n",
       "54    Restaurante PÉSSIMO! Enquanto estive aqui houv...         138653   \n",
       "1104  A comida nada de especial, nem maravilhosa\\ne ...         180441   \n",
       "...                                                 ...            ...   \n",
       "1099                 Sem ar condicionado muito quente u         189671   \n",
       "1134  Comida as vezes boa, mas o que incomoda é a gr...          67815   \n",
       "1299  Fui no dia 10/12/21 às 11:00 o restaurante não...         123753   \n",
       "864   A comida e muito boa mas o atendimento deixa a...         112102   \n",
       "1130  Cuidado. Lugar bonitinho. Porém, sem muitas no...           8462   \n",
       "\n",
       "     IDUsuarioFK  \n",
       "1296       39603  \n",
       "398        55912  \n",
       "1251       46144  \n",
       "54         77001  \n",
       "1104       91194  \n",
       "...          ...  \n",
       "1099       82817  \n",
       "1134       25373  \n",
       "1299      101705  \n",
       "864        29082  \n",
       "1130       65729  \n",
       "\n",
       "[1088 rows x 5 columns]"
      ]
     },
     "execution_count": 21,
     "metadata": {},
     "output_type": "execute_result"
    }
   ],
   "source": [
    "df_train"
   ]
  },
  {
   "cell_type": "code",
   "execution_count": null,
   "metadata": {},
   "outputs": [],
   "source": []
  }
 ],
 "metadata": {
  "kernelspec": {
   "display_name": "llm",
   "language": "python",
   "name": "python3"
  },
  "language_info": {
   "codemirror_mode": {
    "name": "ipython",
    "version": 3
   },
   "file_extension": ".py",
   "mimetype": "text/x-python",
   "name": "python",
   "nbconvert_exporter": "python",
   "pygments_lexer": "ipython3",
   "version": "3.11.3"
  },
  "orig_nbformat": 4
 },
 "nbformat": 4,
 "nbformat_minor": 2
}
