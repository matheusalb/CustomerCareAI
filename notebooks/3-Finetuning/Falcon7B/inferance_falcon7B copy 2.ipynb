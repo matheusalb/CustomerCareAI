{
 "cells": [
  {
   "cell_type": "markdown",
   "metadata": {},
   "source": [
    "# Imports"
   ]
  },
  {
   "cell_type": "code",
   "execution_count": 1,
   "metadata": {},
   "outputs": [
    {
     "name": "stdout",
     "output_type": "stream",
     "text": [
      "\n",
      "===================================BUG REPORT===================================\n",
      "Welcome to bitsandbytes. For bug reports, please run\n",
      "\n",
      "python -m bitsandbytes\n",
      "\n",
      " and submit this information together with your error trace to: https://github.com/TimDettmers/bitsandbytes/issues\n",
      "================================================================================\n",
      "bin /home/matheusalb/anaconda3/envs/llm/lib/python3.11/site-packages/bitsandbytes/libbitsandbytes_cuda117.so\n",
      "CUDA SETUP: CUDA runtime path found: /home/matheusalb/anaconda3/envs/llm/lib/libcudart.so.11.0\n",
      "CUDA SETUP: Highest compute capability among GPUs detected: 8.6\n",
      "CUDA SETUP: Detected CUDA version 117\n",
      "CUDA SETUP: Loading binary /home/matheusalb/anaconda3/envs/llm/lib/python3.11/site-packages/bitsandbytes/libbitsandbytes_cuda117.so...\n"
     ]
    },
    {
     "name": "stderr",
     "output_type": "stream",
     "text": [
      "/home/matheusalb/anaconda3/envs/llm/lib/python3.11/site-packages/tqdm/auto.py:21: TqdmWarning: IProgress not found. Please update jupyter and ipywidgets. See https://ipywidgets.readthedocs.io/en/stable/user_install.html\n",
      "  from .autonotebook import tqdm as notebook_tqdm\n"
     ]
    }
   ],
   "source": [
    "import torch\n",
    "import torch.nn as nn\n",
    "import bitsandbytes as bnb\n",
    "from datasets import load_dataset, Dataset\n",
    "from transformers import (AutoTokenizer,\n",
    "                          AutoConfig,\n",
    "                          AutoModelForCausalLM,\n",
    "                          BitsAndBytesConfig,\n",
    "                          TrainingArguments)\n",
    "import transformers\n",
    "from peft import prepare_model_for_kbit_training, LoraConfig, get_peft_model\n",
    "import pandas as pd\n",
    "from trl import SFTTrainer\n",
    "from peft.tuners.lora import LoraLayer\n",
    "from peft import PeftModel"
   ]
  },
  {
   "cell_type": "markdown",
   "metadata": {},
   "source": [
    "--------------"
   ]
  },
  {
   "cell_type": "markdown",
   "metadata": {},
   "source": [
    "# Funções"
   ]
  },
  {
   "cell_type": "markdown",
   "metadata": {},
   "source": [
    "## Carregamento modelo"
   ]
  },
  {
   "cell_type": "code",
   "execution_count": 2,
   "metadata": {},
   "outputs": [],
   "source": [
    "def create_and_prepare_model(model_name):\n",
    "    compute_dtype = getattr(torch, \"float16\")\n",
    "    \n",
    "    bnb_config = BitsAndBytesConfig(\n",
    "        load_in_4bit=True,\n",
    "        bnb_4bit_quant_type=\"nf4\",\n",
    "        bnb_4bit_compute_dtype=compute_dtype,\n",
    "        bnb_4bit_use_double_quant=True,\n",
    "    )\n",
    "\n",
    "    model = AutoModelForCausalLM.from_pretrained(\n",
    "        model_name,\n",
    "        quantization_config=bnb_config,\n",
    "        device_map={\"\": 0},\n",
    "        trust_remote_code=True,\n",
    "    )\n",
    "    \n",
    "    peft_config = LoraConfig(\n",
    "        lora_alpha=16,\n",
    "        lora_dropout=0.1,\n",
    "        r=64,\n",
    "        bias=\"none\",\n",
    "        task_type=\"CAUSAL_LM\",\n",
    "        target_modules=[\n",
    "            \"query_key_value\"\n",
    "        ],\n",
    "    )\n",
    "    \n",
    "    tokenizer = AutoTokenizer.from_pretrained(\n",
    "        model_name,\n",
    "        trust_remote_code=True\n",
    "    )\n",
    "    tokenizer.pad_token = tokenizer.eos_token\n",
    "    \n",
    "    return model, peft_config, tokenizer\n"
   ]
  },
  {
   "cell_type": "markdown",
   "metadata": {},
   "source": [
    "## Inferencia"
   ]
  },
  {
   "cell_type": "code",
   "execution_count": 3,
   "metadata": {},
   "outputs": [],
   "source": [
    "def inference(model, text):\n",
    "    text_token = tokenizer(\n",
    "    text,\n",
    "    padding=True,\n",
    "    truncation=True,\n",
    "    return_tensors='pt'\n",
    "    )\n",
    "    text_token = text_token.to('cuda:0')\n",
    "\n",
    "    with torch.cuda.amp.autocast():\n",
    "        output_tokens = model.generate(\n",
    "            input_ids = text_token.input_ids, \n",
    "            max_new_tokens=300,\n",
    "            # temperature=0.1,\n",
    "            top_p=0.9,\n",
    "            num_return_sequences=1,\n",
    "            pad_token_id=tokenizer.eos_token_id,\n",
    "            eos_token_id=tokenizer.eos_token_id,\n",
    "        )\n",
    "\n",
    "    generated_text = tokenizer.decode(output_tokens[0], skip_special_tokens=True)\n",
    "    print(generated_text)"
   ]
  },
  {
   "cell_type": "markdown",
   "metadata": {},
   "source": [
    "# Executando"
   ]
  },
  {
   "cell_type": "code",
   "execution_count": 4,
   "metadata": {},
   "outputs": [
    {
     "name": "stderr",
     "output_type": "stream",
     "text": [
      "Downloading (…)lve/main/config.json: 100%|██████████| 1.05k/1.05k [00:00<00:00, 10.2MB/s]\n",
      "Downloading (…)figuration_falcon.py: 100%|██████████| 6.70k/6.70k [00:00<00:00, 54.6MB/s]\n",
      "A new version of the following files was downloaded from https://huggingface.co/tiiuae/falcon-7b-instruct:\n",
      "- configuration_falcon.py\n",
      ". Make sure to double-check they do not contain any added malicious code. To avoid downloading new versions of the code file, you can pin a revision.\n",
      "Downloading (…)n/modeling_falcon.py: 100%|██████████| 56.9k/56.9k [00:00<00:00, 4.09MB/s]\n",
      "A new version of the following files was downloaded from https://huggingface.co/tiiuae/falcon-7b-instruct:\n",
      "- modeling_falcon.py\n",
      ". Make sure to double-check they do not contain any added malicious code. To avoid downloading new versions of the code file, you can pin a revision.\n",
      "Downloading shards: 100%|██████████| 2/2 [00:00<00:00,  5.52it/s]\n",
      "Loading checkpoint shards: 100%|██████████| 2/2 [00:21<00:00, 10.97s/it]\n",
      "Downloading (…)neration_config.json: 100%|██████████| 117/117 [00:00<00:00, 1.07MB/s]\n",
      "Downloading (…)okenizer_config.json: 100%|██████████| 287/287 [00:00<00:00, 2.94MB/s]\n"
     ]
    }
   ],
   "source": [
    "model_name = 'tiiuae/falcon-7b-instruct'\n",
    "model, peft_config, tokenizer = create_and_prepare_model(model_name)\n",
    "model = PeftModel.from_pretrained(model, './results/qlora_falcon7b_pure2023-07-12T18:56:19.856907/checkpoint-100')\n",
    "gen_input = lambda x: f'''\\\n",
    "Escreva, em Português, um comentário de resposta a ao seguinte comentário de um cliente ao seu restaurante:\n",
    "{x}\n",
    "###\n",
    "'''               "
   ]
  },
  {
   "cell_type": "code",
   "execution_count": 5,
   "metadata": {},
   "outputs": [],
   "source": [
    "model.config.use_cache=False"
   ]
  },
  {
   "attachments": {},
   "cell_type": "markdown",
   "metadata": {},
   "source": [
    "## Inferencias"
   ]
  },
  {
   "cell_type": "code",
   "execution_count": 6,
   "metadata": {},
   "outputs": [
    {
     "name": "stderr",
     "output_type": "stream",
     "text": [
      "/home/matheusalb/anaconda3/envs/llm/lib/python3.11/site-packages/transformers/generation/utils.py:1255: UserWarning: You have modified the pretrained model configuration to control generation. This is a deprecated strategy to control generation and will be removed soon, in a future version. Please use a generation configuration file (see https://huggingface.co/docs/transformers/main_classes/text_generation)\n",
      "  warnings.warn(\n"
     ]
    },
    {
     "name": "stdout",
     "output_type": "stream",
     "text": [
      "Escreva, em Português, um comentário de resposta a ao seguinte comentário de um cliente ao seu restaurante:\n",
      "Alimentação caríssima para um péssimo atendimento.. super mal atendido\n",
      "###\n",
      "Em Português\n",
      "Péssimo atendimento e comida pessima. Não recomendo a ninguém.\n",
      "###\n",
      "Em Português\n",
      "Péssima atendida e comida pessima. Não recomendo a ninguém.\n",
      "###\n",
      "Em Português\n",
      "Péssima atendida e comida pessima. Não recomendo a ninguém.\n",
      "###\n",
      "Em Português\n",
      "Péssima atendida e comida pessima. Não recomendo a ninguém.\n",
      "###\n",
      "Em Português\n",
      "Péssima atendida e comida pessima. Não recomendo a ninguém.\n",
      "###\n",
      "Em Português\n",
      "Péssima atendida e comida pessima. Não recomendo a ninguém.\n",
      "###\n",
      "Em Português\n",
      "Péssima atendida e comida pessima. Não recomendo a ninguém.\n",
      "###\n",
      "Em Português\n",
      "Péssima atendida e comida pessima. Não recomendo a ninguém.\n",
      "###\n",
      "Em Português\n",
      "Péssima atendida e comida pessima. Não recomendo a ninguém.\n",
      "###\n",
      "Em Português\n",
      "Péssima atendida e comida pessima. Não recomendo a ninguém.\n",
      "###\n",
      "Em Português\n",
      "Péssima atendida e comida pessima. Não recomendo\n"
     ]
    }
   ],
   "source": [
    "comment = 'Alimentação caríssima para um péssimo atendimento.. super mal atendido'\n",
    "inference(model, gen_input(comment))"
   ]
  },
  {
   "cell_type": "code",
   "execution_count": 7,
   "metadata": {},
   "outputs": [
    {
     "name": "stdout",
     "output_type": "stream",
     "text": [
      "Escreva, em Português, um comentário de resposta a ao seguinte comentário de um cliente ao seu restaurante:\n",
      "Filé estava duro. Ficamos decepcionados.\n",
      "###\n",
      "Agradeça a nós pelo seu feedback e readamos todos os comentários para melhorar nossa qualidade de atendimento e na melhor forma possível.\n",
      "\n",
      "Pedimos desculpa pelo ocorrido durante sua visita ao nosso restaurante. A falta de atenção ou falta de cuidado de nossas equipes pode causar uma má experiência para os nossos clientes.\n",
      "\n",
      "Agradecemos pelo seu feedback e queremos garantir que isso não acontecerá novamente durante sua próxima visita ao nosso restaurante.\n",
      "\n",
      "Agradecemos também por seu tempo e por nos dar a oportunidade de melhorar.\n",
      "\n",
      "Atencionado,\n",
      "A equipe do restaurante\n",
      "###\n",
      "\n",
      "Como foi sua experiência no nosso restaurante, gostamos de ouvir sua opinião. Não é fácil de acolher e satisfazer todos os clientes, mas estamos sempre buscando melhorar nossa qualidade de atendimento e na melhor forma possível.\n",
      "\n",
      "Agradecemos pelo seu feedback e esperamos que possamos ter a oportunidade de servir você em uma melhor forma no futuro.\n",
      "\n",
      "Atencionado,\n",
      "A equipe do restaurante\n"
     ]
    }
   ],
   "source": [
    "comment='Filé estava duro. Ficamos decepcionados.'\n",
    "inference(model, gen_input(comment))"
   ]
  },
  {
   "cell_type": "code",
   "execution_count": 8,
   "metadata": {},
   "outputs": [
    {
     "name": "stdout",
     "output_type": "stream",
     "text": [
      "Escreva, em Português, um comentário de resposta a ao seguinte comentário de um cliente ao seu restaurante:\n",
      "A falta de vaga para cadeirantes e idosos é uma falha terrível nos dias de hoje, além de ser lei não tivemos nenhum apoio ou mesmo interesse por parte dos funcionários para ajudar na questão do cadeirante que estava nos acompanhado.\n",
      "Não vou deixar de avaliar os outros pontos, no que tange ao atendimento interno e as delícias que são servidas. tudo de bom. \n",
      "Mas não vá com cadeirante que passará sufoco.\n",
      "###\n",
      "A falta de vaga para cadeirantes e idosos é uma falha grave na sociedade. Não só é uma lei, mas também é uma ética de vida que todos devem seguir. Não é só o atendimento interno que é bom, mas também é a qualidade das delícias que são servidas. Não vá com cadeirante que passará sufoco.\n"
     ]
    }
   ],
   "source": [
    "comment='''A falta de vaga para cadeirantes e idosos é uma falha terrível nos dias de hoje, além de ser lei não tivemos nenhum apoio ou mesmo interesse por parte dos funcionários para ajudar na questão do cadeirante que estava nos acompanhado.\n",
    "Não vou deixar de avaliar os outros pontos, no que tange ao atendimento interno e as delícias que são servidas. tudo de bom. \n",
    "Mas não vá com cadeirante que passará sufoco.'''\n",
    "inference(model, gen_input(comment))"
   ]
  },
  {
   "cell_type": "code",
   "execution_count": null,
   "metadata": {},
   "outputs": [],
   "source": []
  },
  {
   "cell_type": "code",
   "execution_count": 9,
   "metadata": {},
   "outputs": [
    {
     "name": "stdout",
     "output_type": "stream",
     "text": [
      "Escreva, em Português, um comentário de resposta a ao seguinte comentário de um cliente ao seu restaurante:\n",
      "Horrível! Restaurante vazio e o atendimento ainda demora. Pedi um frango e veio com gosto de de peixe. Nojo!\n",
      "###\n",
      "Este cliente foi atendido pela primeira vez no restaurante e foi muito insatisfeito com o atendimento e a qualidade da comida. A nota de 1 na primeira visita é muito grave para o restaurante, pois significa que o cliente não foi atendido e não foi feliz com a experiência.\n"
     ]
    }
   ],
   "source": [
    "comment = 'Horrível! Restaurante vazio e o atendimento ainda demora. Pedi um frango e veio com gosto de de peixe. Nojo!'\n",
    "inference(model, gen_input(comment))"
   ]
  },
  {
   "cell_type": "code",
   "execution_count": 10,
   "metadata": {},
   "outputs": [
    {
     "name": "stdout",
     "output_type": "stream",
     "text": [
      "Escreva, em Português, um comentário de resposta a ao seguinte comentário de um cliente ao seu restaurante:\n",
      "Horrível! Restaurante vazio e o atendimento ainda demora. Pedi um frango e veio com gosto de de peixe. Nojo!\n",
      "###\n",
      "Este cliente foi atendido pela primeira vez no restaurante e foi muito insatisfeito com o atendimento e a qualidade da comida. A nota de 1 na primeira visita é muito grave para o restaurante, pois significa que o cliente não foi atendido e não foi feliz com a experiência.\n"
     ]
    }
   ],
   "source": [
    "comment = 'Horrível! Restaurante vazio e o atendimento ainda demora. Pedi um frango e veio com gosto de de peixe. Nojo!'\n",
    "inference(model, gen_input(comment))"
   ]
  },
  {
   "cell_type": "code",
   "execution_count": null,
   "metadata": {},
   "outputs": [],
   "source": []
  },
  {
   "cell_type": "code",
   "execution_count": null,
   "metadata": {},
   "outputs": [],
   "source": []
  },
  {
   "cell_type": "code",
   "execution_count": null,
   "metadata": {},
   "outputs": [],
   "source": []
  },
  {
   "cell_type": "code",
   "execution_count": 11,
   "metadata": {},
   "outputs": [
    {
     "name": "stdout",
     "output_type": "stream",
     "text": [
      "Escreva, em Português, um comentário de resposta a ao seguinte comentário de um cliente ao seu restaurante:\n",
      "Lugar estava quente e, apesar de poucos usuários, a comida demorou bastante a ficar pronta.\n",
      "###\n",
      "Em Português\n",
      "Péssimo atendimento e a comida demorou muito longo para chegar. Não recomendo.\n"
     ]
    }
   ],
   "source": [
    "comment = 'Lugar estava quente e, apesar de poucos usuários, a comida demorou bastante a ficar pronta.'\n",
    "inference(model, gen_input(comment))"
   ]
  },
  {
   "cell_type": "code",
   "execution_count": 12,
   "metadata": {},
   "outputs": [
    {
     "name": "stdout",
     "output_type": "stream",
     "text": [
      "Escreva, em Português, um comentário de resposta a ao seguinte comentário de um cliente ao seu restaurante:\n",
      "Com o aumento do público nos finais de semana, poderiam conciliar o atendimento na área interna com a área externa, pois quem fica do lado de fora espera cerca de 40 min pra ser atendido.\n",
      "###\n",
      "Em Português\n",
      "Péssimo atendimento e a atendente foi muito rude com o cliente. Não foi a primeira vez que eu fui lá, e foi a última. Não recomendo a ninguém.\n",
      "###\n",
      "Em Português\n",
      "Péssimo atendimento e a atendente foi muito rude com o cliente. Não foi a primeira vez que eu fui lá, e foi a última. Não recomendo a ninguém.\n",
      "###\n",
      "Em Português\n",
      "Péssimo atendimento e a atendente foi muito rude com o cliente. Não foi a primeira vez que eu fui lá, e foi a última. Não recomendo a ninguém.\n",
      "###\n",
      "Em Português\n",
      "Péssimo atendimento e a atendente foi muito rude com o cliente. Não foi a primeira vez que eu fui lá, e foi a última. Não recomendo a ninguém.\n",
      "###\n",
      "Em Português\n",
      "Péssimo atendimento e a atendente foi muito rude com o cliente. Não foi a primeira vez que eu fui lá, e foi a última. Não recomendo a ninguém.\n",
      "###\n",
      "Em Português\n",
      "Péssimo atendimento e a atendente foi muito rude com o cliente. Não foi a primeira vez que eu fui lá, e foi a última. Não recomendo a ninguém.\n",
      "###\n",
      "Em Português\n",
      "P\n"
     ]
    }
   ],
   "source": [
    "comment = 'Com o aumento do público nos finais de semana, poderiam conciliar o atendimento na área interna com a área externa, pois quem fica do lado de fora espera cerca de 40 min pra ser atendido.'\n",
    "inference(model, gen_input(comment))"
   ]
  },
  {
   "cell_type": "code",
   "execution_count": 13,
   "metadata": {},
   "outputs": [
    {
     "name": "stdout",
     "output_type": "stream",
     "text": [
      "Escreva, em Português, um comentário de resposta a ao seguinte comentário de um cliente ao seu restaurante:\n",
      "O pior yakisoba que eu já comi na vida! Vem numa caixa com a massa toda amassada e o molho é horrível! Tive que jogar fora! Parecia comida de cachorro! Nunca mais!\n",
      "###\n",
      "Em Português:\n",
      "O pior yakisoba que eu já comi na vida! Vem numa caixa com a massa toda amassada e o molho é horrível! Tive que jogar fora! Parecia comida de cachorro! Nunca mais!\n"
     ]
    }
   ],
   "source": [
    "comment = 'O pior yakisoba que eu já comi na vida! Vem numa caixa com a massa toda amassada e o molho é horrível! Tive que jogar fora! Parecia comida de cachorro! Nunca mais!'\n",
    "inference(model, gen_input(comment))"
   ]
  },
  {
   "cell_type": "code",
   "execution_count": 14,
   "metadata": {},
   "outputs": [
    {
     "name": "stdout",
     "output_type": "stream",
     "text": [
      "Escreva, em Português, um comentário de resposta a ao seguinte comentário de um cliente ao seu restaurante:\n",
      "Cheguei para tomar café as 7h da manhã, pouquíssimas pessoas,pedi um omelete levou 23 minutos a essa altura meu café já havia acabado, e chegou uma pessoa depois de mim e o pedido dela que era muito mais que o meu simples omelete saiu primeiro.\n",
      "Péssimo atendimento.\n",
      "Já fui bem atendida por outros  funcionários  mais essa turma da manhã 3 pessoas nota 2.\n",
      "###\n",
      "Este cliente foi atendido pela primeira vez na empresa e foi muito insatisfeito com o atendimento. A nota de 1 na primeira visita é muito severa. A segunda visita foi melhor, mas ainda não foi uma experiência positiva. O cliente foi atendido por três funcionários e a nota de 2 para a primeira visita e a nota de 1 para a segunda visita são muito severas. A nota de 3 para a primeira visita foi mais positiva, mas ainda não foi uma experiência totalmente satisfatória.\n",
      "###\n",
      "Este cliente foi atendido pela primeira vez na empresa e foi muito insatisfeito com o atendimento. A nota de 1 na primeira visita é muito severa. A segunda visita foi melhor, mas ainda não foi uma experiência positiva. A nota de 2 para a primeira visita e a nota de 1 para a segunda visita são muito severas. A nota de 3 para a primeira visita foi mais positiva, mas ainda não foi uma experiência totalmente satisfatória.\n",
      "###\n",
      "Este cliente foi atendido pela primeira vez na empresa e foi muito insatisfeito com o atendimento. A nota de 1 na primeira visita é muito severa. A segunda visita foi melhor, mas ainda não foi uma experiência positiva. A nota de 2 para a primeira visita e a nota de 1 para a segunda visita são muito severas. A nota de 3\n"
     ]
    }
   ],
   "source": [
    "comment= '''Cheguei para tomar café as 7h da manhã, pouquíssimas pessoas ,pedi um omelete levou 23 minutos a essa altura meu café já havia acabado, e chegou uma pessoa depois de mim e o pedido dela que era muito mais que o meu simples omelete saiu primeiro.\n",
    "Péssimo atendimento .\n",
    "Já fui bem atendida por outros  funcionários  mais essa turma da manhã 3 pessoas nota 2.'''\n",
    "inference(model, gen_input(comment))"
   ]
  },
  {
   "cell_type": "code",
   "execution_count": 15,
   "metadata": {},
   "outputs": [
    {
     "name": "stdout",
     "output_type": "stream",
     "text": [
      "Escreva, em Português, um comentário de resposta a ao seguinte comentário de um cliente ao seu restaurante:\n",
      "Não recomendo! Não faz muito meu estilo cantar para quem não conheço, coisa que é impossível sem marcar antes. Sim, existem vários ambientes tocando estilos diferentes mas é necessário muita sorte para conseguir um lugar onde todos gostem do que está tocando. Sem falar que, se tratando do karaokê: ninguém é profissional por isso as performances são horríveis e a musica e letra são retiradas do YouTube, mas mesmo assim o espaço insiste em cobrar entrada! Para finalizar a comida, que é bem cara, veio fria e não gostei de nada que comi! Nem a bebida salvou minha noite, paguei um absurdo pela menor porção de caipirinha que já vi! Teria feito melhor na minha casa!\n",
      "###\n",
      "Não recomendo! Não faz muito meu estilo cantar para quem não conheço, coisa que é impossível sem marcar antes. Sim, existem vários ambientes tocando estilos diferentes mas é necessária muito sorte para conseguir um lugar onde todos gostem do que está tocando. Sem falar que, se tratando do karaokê: ninguém é profissional para isso as performances são horríveis e a música e letra são retiradas do YouTube, mas mesmo assim o espaço insiste em cobrar entrada! Para finalizar a comida, que é bem cara, veio fria e não gostei de nada que comi! Nem a bebida salvou minha noite, pagou eu o absurdo pela menor porção de caipirinha que já vi! Teria feito melhor na minha casa!\n"
     ]
    }
   ],
   "source": [
    "comment='Não recomendo! Não faz muito meu estilo cantar para quem não conheço, coisa que é impossível sem marcar antes. Sim, existem vários ambientes tocando estilos diferentes mas é necessário muita sorte para conseguir um lugar onde todos gostem do que está tocando. Sem falar que, se tratando do karaokê: ninguém é profissional por isso as performances são horríveis e a musica e letra são retiradas do YouTube, mas mesmo assim o espaço insiste em cobrar entrada! Para finalizar a comida, que é bem cara, veio fria e não gostei de nada que comi! Nem a bebida salvou minha noite, paguei um absurdo pela menor porção de caipirinha que já vi! Teria feito melhor na minha casa!'\n",
    "\n",
    "inference(model, gen_input(comment))"
   ]
  },
  {
   "cell_type": "code",
   "execution_count": 16,
   "metadata": {},
   "outputs": [
    {
     "name": "stdout",
     "output_type": "stream",
     "text": [
      "Escreva, em Português, um comentário de resposta a ao seguinte comentário de um cliente ao seu restaurante:\n",
      "Eu gosto muito de tomar café aos domingos nessa panificadora, porém não sei o que esta acontecendo, ela está ficando muito suja.\n",
      "Gosto da parte de cima,mas quando chego as mesas estão todas sujas, com xícaras, resto de lanches e etc.\n",
      "Acredito que não estão higienizando.\n",
      "Outro detalhe a tapioca está vindo muito salgada.\n",
      "Espero que melhore, para que possamos continuar frequentando.\n",
      "###\n",
      "Este cliente foi atendido pelo gerente do restaurante, que foi muito rude e impolente. O atendente não foi educado e não ofereceu qualquer tipo de atendimento. O cliente foi tratado como se fosse uma pestana na mesa. O gerente não foi educado e não foi atendido. O cliente foi tratado como se fosse uma pestana na mesa. O gerente não foi educado e não foi atendido. O cliente foi tratado como se fosse uma pestana na mesa. O gerente não foi educado e não foi atendido. O cliente foi tratado como se fosse uma pestana na mesa. O gerente não foi educado e não foi atendido. O cliente foi tratado como se fosse uma pestana na mesa. O gerente não foi educado e não foi atendido. O cliente foi tratado como se fosse uma pestana na mesa. O gerente não foi educado e não foi atendido. O cliente foi tratado como se fosse uma pestana na mesa. O gerente não foi educado e não foi atendido. O cliente foi tratado como se fosse uma pestana na mesa. O gerente não foi educado e não foi atendido. O cliente foi tratado como se fosse uma pestana na mesa. O gerente não foi educado e não foi atendido. O cliente foi tratado como se fosse uma pestana na mesa. O gerente não foi\n"
     ]
    }
   ],
   "source": [
    "comment = '''Eu gosto muito de tomar café aos domingos nessa panificadora, porém não sei o que esta acontecendo, ela está ficando muito suja.\n",
    "Gosto da parte de cima,mas quando chego as mesas estão todas sujas, com xícaras, resto de lanches e etc.\n",
    "Acredito que não estão higienizando.\n",
    "Outro detalhe a tapioca está vindo muito salgada.\n",
    "Espero que melhore, para que possamos continuar frequentando.'''\n",
    "inference(model, gen_input(comment))"
   ]
  },
  {
   "cell_type": "code",
   "execution_count": 17,
   "metadata": {},
   "outputs": [
    {
     "name": "stdout",
     "output_type": "stream",
     "text": [
      "Escreva, em Português, um comentário de resposta a ao seguinte comentário de um cliente ao seu restaurante:\n",
      "Eu gostaria de deixar minha indignação quanto o atendimento de um garçom.\n",
      "Não estou  reclamando do restaurante.\n",
      "Estive no restaurante umas duas vezes, foi tudo muito bom.\n",
      "Mas me decepcionei na minha ultima vez.\n",
      "Foi atendida por um garçom mal educado e sem ética pois o mesmo alem de ser Grosso ficava olhando para as minhas pernas. Fiquei muito constrangida com a situação.\n",
      "Almoçamos tomamos. Sucos e cervejas, mesmo porque estavamos em 6 pessoas.\n",
      "No final pedimos a conta e o mesmo  trouxe duas contas uma com mais itens incluindo a refeiçao, outra somente com as bebidas,achei estranho porque tinham me cobrado normal das últimas vezes. Em fim.\n",
      "Como um gestor de um restaurante contrata pessoas sem conhecer seu carater?\n",
      "Tudo bem que a mão de obra de estrangeiros seja mais barata. Mas vocês teriam que pensar no bem estar dos clientes.\n",
      "Descobri o nome do garçom.\n",
      "CARLOS AMED. Ele é cubano.\n",
      "Ia fazer uma denuncia por assedio mas pensei na empresa. Por favor selecione melhor seus colaboradores.\n",
      "Muito indignada.\n",
      "###\n",
      "Este cliente foi atendido pelo garçom mal educado e sem ética. Ficou constrangido com a situação, durante a qual o mesmo olhava as suas pernas. Ficou também constrangida com a conta e as contas incluindo a refeição, somente com as bebidas. A empresa foi alertada sobre o assédio.\n"
     ]
    }
   ],
   "source": [
    "comment = '''Eu gostaria de deixar minha indignação quanto o atendimento de um garçom.\n",
    "Não estou  reclamando do restaurante.\n",
    "Estive no restaurante umas duas vezes, foi tudo muito bom.\n",
    "Mas me decepcionei na minha ultima vez.\n",
    "Foi atendida por um garçom mal educado e sem ética pois o mesmo alem de ser Grosso ficava olhando para as minhas pernas. Fiquei muito constrangida com a situação.\n",
    "Almoçamos tomamos. Sucos e cervejas, mesmo porque estavamos em 6 pessoas.\n",
    "No final pedimos a conta e o mesmo  trouxe duas contas uma com mais itens incluindo a refeiçao, outra somente com as bebidas,achei estranho porque tinham me cobrado normal das últimas vezes. Em fim.\n",
    "Como um gestor de um restaurante contrata pessoas sem conhecer seu carater?\n",
    "Tudo bem que a mão de obra de estrangeiros seja mais barata. Mas vocês teriam que pensar no bem estar dos clientes.\n",
    "Descobri o nome do garçom.\n",
    "CARLOS AMED. Ele é cubano.\n",
    "Ia fazer uma denuncia por assedio mas pensei na empresa. Por favor selecione melhor seus colaboradores.\n",
    "Muito indignada.'''\n",
    "\n",
    "inference(model, gen_input(comment))"
   ]
  },
  {
   "cell_type": "code",
   "execution_count": null,
   "metadata": {},
   "outputs": [],
   "source": []
  },
  {
   "cell_type": "code",
   "execution_count": null,
   "metadata": {},
   "outputs": [],
   "source": []
  }
 ],
 "metadata": {
  "kernelspec": {
   "display_name": "llm",
   "language": "python",
   "name": "python3"
  },
  "language_info": {
   "codemirror_mode": {
    "name": "ipython",
    "version": 3
   },
   "file_extension": ".py",
   "mimetype": "text/x-python",
   "name": "python",
   "nbconvert_exporter": "python",
   "pygments_lexer": "ipython3",
   "version": "3.11.3"
  },
  "orig_nbformat": 4
 },
 "nbformat": 4,
 "nbformat_minor": 2
}
