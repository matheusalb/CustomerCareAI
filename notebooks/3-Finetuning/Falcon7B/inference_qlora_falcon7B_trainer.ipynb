{
 "cells": [
  {
   "cell_type": "markdown",
   "metadata": {},
   "source": [
    "# Imports"
   ]
  },
  {
   "cell_type": "code",
   "execution_count": 1,
   "metadata": {},
   "outputs": [
    {
     "name": "stdout",
     "output_type": "stream",
     "text": [
      "\n",
      "===================================BUG REPORT===================================\n",
      "Welcome to bitsandbytes. For bug reports, please run\n",
      "\n",
      "python -m bitsandbytes\n",
      "\n",
      " and submit this information together with your error trace to: https://github.com/TimDettmers/bitsandbytes/issues\n",
      "================================================================================\n",
      "bin /home/matheusalb/anaconda3/envs/llm/lib/python3.11/site-packages/bitsandbytes/libbitsandbytes_cuda117.so\n",
      "CUDA SETUP: CUDA runtime path found: /home/matheusalb/anaconda3/envs/llm/lib/libcudart.so.11.0\n",
      "CUDA SETUP: Highest compute capability among GPUs detected: 8.6\n",
      "CUDA SETUP: Detected CUDA version 117\n",
      "CUDA SETUP: Loading binary /home/matheusalb/anaconda3/envs/llm/lib/python3.11/site-packages/bitsandbytes/libbitsandbytes_cuda117.so...\n"
     ]
    }
   ],
   "source": [
    "import sys\n",
    "sys.path.append('../../../')\n",
    "\n",
    "from utils.load_finetuned_qlora_model import (\n",
    "    load_tokenizer_and_finetuned_qlora_model_FALCON\n",
    ")\n",
    "\n",
    "import torch\n",
    "# import bitsandbytes as bnb\n",
    "import datetime\n",
    "from peft import (\n",
    "    PeftModel,\n",
    "    LoraConfig,\n",
    "    prepare_model_for_kbit_training,\n",
    "    get_peft_model\n",
    ")\n",
    "\n",
    "from transformers import (\n",
    "    LlamaForCausalLM,\n",
    "    LlamaTokenizer,\n",
    "    BitsAndBytesConfig,\n",
    "    AutoModelForCausalLM,\n",
    "    AutoTokenizer\n",
    ")\n",
    "\n",
    "import transformers\n",
    "from datasets import load_dataset, Dataset \n",
    "\n",
    "import pandas as pd"
   ]
  },
  {
   "cell_type": "markdown",
   "metadata": {},
   "source": [
    "------"
   ]
  },
  {
   "cell_type": "markdown",
   "metadata": {},
   "source": [
    "# Functions"
   ]
  },
  {
   "cell_type": "markdown",
   "metadata": {},
   "source": [
    "## Tokenize Prompts"
   ]
  },
  {
   "cell_type": "code",
   "execution_count": 2,
   "metadata": {},
   "outputs": [],
   "source": [
    "def tokenize(prompt):\n",
    "    result = tokenizer(\n",
    "        prompt,\n",
    "        truncation=True,\n",
    "        max_length=MAX_LENGTH,\n",
    "        padding=False,\n",
    "        return_tensors=None\n",
    "    )     \n",
    "    return result"
   ]
  },
  {
   "cell_type": "markdown",
   "metadata": {},
   "source": [
    "------"
   ]
  },
  {
   "cell_type": "markdown",
   "metadata": {},
   "source": [
    "# Defining Parameters"
   ]
  },
  {
   "cell_type": "code",
   "execution_count": 3,
   "metadata": {},
   "outputs": [],
   "source": [
    "model_name = 'tiiuae/falcon-7b'\n",
    "SAVED_MODEL_PATH = './results/qlora_falcon7b_2k_trainer_2023-07-23T19:25:11.275576'\n",
    "SAVED_TOKENIZER_PATH = './results/qlora_falcon7b_2k_trainer_2023-07-23T19:25:11.275576/tokenizer'\n",
    "MAX_LENGTH=350\n",
    "\n",
    "bnb_config = BitsAndBytesConfig(\n",
    "    load_in_4bit=True,\n",
    "    bnb_4bit_quant_type=\"nf4\",\n",
    "    bnb_4bit_compute_dtype=torch.bfloat16,\n",
    "    bnb_4bit_use_double_quant=True,\n",
    ")"
   ]
  },
  {
   "cell_type": "markdown",
   "metadata": {},
   "source": [
    "----"
   ]
  },
  {
   "cell_type": "markdown",
   "metadata": {},
   "source": [
    "# Run"
   ]
  },
  {
   "cell_type": "markdown",
   "metadata": {},
   "source": [
    "## Loading Model and Tokenizer"
   ]
  },
  {
   "cell_type": "code",
   "execution_count": 4,
   "metadata": {},
   "outputs": [
    {
     "data": {
      "application/vnd.jupyter.widget-view+json": {
       "model_id": "cbf5c0be6b6142e9bf22f28177d98dcf",
       "version_major": 2,
       "version_minor": 0
      },
      "text/plain": [
       "Loading checkpoint shards:   0%|          | 0/2 [00:00<?, ?it/s]"
      ]
     },
     "metadata": {},
     "output_type": "display_data"
    }
   ],
   "source": [
    "model, tokenizer = load_tokenizer_and_finetuned_qlora_model_FALCON(\n",
    "    model_name,\n",
    "    SAVED_MODEL_PATH,\n",
    "    bnb_config,\n",
    "    SAVED_TOKENIZER_PATH\n",
    ")"
   ]
  },
  {
   "cell_type": "markdown",
   "metadata": {},
   "source": [
    "# Inferencia"
   ]
  },
  {
   "cell_type": "code",
   "execution_count": 5,
   "metadata": {},
   "outputs": [],
   "source": [
    "gen_input = lambda x: f'''\\\n",
    "<human>: Escreva, em Português, um comentário de resposta a ao seguinte comentário de um cliente ao seu restaurante: \n",
    "{x}\n",
    "<assistant>:\n",
    "'''.strip()"
   ]
  },
  {
   "cell_type": "code",
   "execution_count": 16,
   "metadata": {},
   "outputs": [],
   "source": [
    "# generation_config=model.generation_config\n",
    "# generation_config.use_cache = False\n",
    "# generation_config.max_new_tokens=100\n",
    "# generation_config['eos_token_id'] = tokenizer.eos_token_id\n",
    "# generation_config['pad_token_id'] = tokenizer.pad_token_id\n",
    "# generation_config.temeperature=0.7\n",
    "# generation_config.top_k=0.9\n",
    "# generation_config.num_return_sequences=1\n",
    "# generation_config.pad_token_id=tokenizer.eos_token_id\n",
    "# generation_config.eos_token_id=tokenizer.eos_token_id\n",
    "\n",
    "def inference(model, text, temperature=0.01, top_p=1.0):\n",
    "    enconded = tokenizer(text, return_tensors=\"pt\")\n",
    "    \n",
    "    enconded.to('cuda:0')\n",
    "    with torch.cuda.amp.autocast():\n",
    "        outputs = model.generate(\n",
    "            input_ids=enconded.input_ids,\n",
    "            attention_mask=enconded.attention_mask,\n",
    "            # generation_config=generation_config,\n",
    "            temperature=temperature,\n",
    "            top_p=top_p,\n",
    "            max_new_tokens=350,\n",
    "            use_cache=False,\n",
    "            num_return_sequences=1,\n",
    "            eos_token_id=tokenizer.eos_token_id,\n",
    "            pad_token_id=tokenizer.pad_token_id,\n",
    "            do_sample=True,\n",
    "        )\n",
    "    print(tokenizer.decode(outputs[0], skip_special_tokens=True))\n"
   ]
  },
  {
   "cell_type": "code",
   "execution_count": 10,
   "metadata": {},
   "outputs": [
    {
     "name": "stderr",
     "output_type": "stream",
     "text": [
      "/home/matheusalb/anaconda3/envs/llm/lib/python3.11/site-packages/transformers/generation/utils.py:1255: UserWarning: You have modified the pretrained model configuration to control generation. This is a deprecated strategy to control generation and will be removed soon, in a future version. Please use a generation configuration file (see https://huggingface.co/docs/transformers/main_classes/text_generation)\n",
      "  warnings.warn(\n"
     ]
    },
    {
     "name": "stdout",
     "output_type": "stream",
     "text": [
      "<human>: Escreva, em Português, um comentário de resposta a ao seguinte comentário de um cliente ao seu restaurante: \n",
      "Alimentação caríssima para um péssimo atendimento.. super mal atendido\n",
      "<assistant>: Caro cliente, lamentamos profundamente que sua experiência em nosso restaurante tenha sido insatisfatória devido ao atendimento e à qualidade da comida. Agradecemos por compartilhar sua opinião e gostaríamos de entender melhor os pontos negativos mencionados para melhorar nossos serviços.\n"
     ]
    }
   ],
   "source": [
    "comment = 'Alimentação caríssima para um péssimo atendimento.. super mal atendido'\n",
    "inference(model, gen_input(comment))"
   ]
  },
  {
   "cell_type": "code",
   "execution_count": 14,
   "metadata": {},
   "outputs": [
    {
     "name": "stdout",
     "output_type": "stream",
     "text": [
      "<human>: Escreva, em Português, um comentário de resposta a ao seguinte comentário de um cliente ao seu restaurante: \n",
      "Filé estava duro. Ficamos decepcionados.\n",
      "<assistant>:\n"
     ]
    }
   ],
   "source": [
    "#treino\n",
    "comment='Filé estava duro. Ficamos decepcionados.'\n",
    "inference(model, gen_input(comment))"
   ]
  },
  {
   "cell_type": "code",
   "execution_count": 18,
   "metadata": {},
   "outputs": [
    {
     "name": "stdout",
     "output_type": "stream",
     "text": [
      "<human>: Escreva, em Português, um comentário de resposta a ao seguinte comentário de um cliente ao seu restaurante: \n",
      "A falta de vaga para cadeirantes e idosos é uma falha terrível nos dias de hoje, além de ser lei não tivemos nenhum apoio ou mesmo interesse por parte dos funcionários para ajudar na questão do cadeirante que estava nos acompanhado.\n",
      "Não vou deixar de avaliar os outros pontos, no que tange ao atendimento interno e as delícias que são servidas. tudo de bom. \n",
      "Mas não vá com cadeirante que passará sufoco.\n",
      "<assistant>: Caro cliente, agradecemos por compartilhar sua experiência conosco. Lamentamos profundamente pela falta de vaga para cadeirantes e idosos em nosso estabelecimento. Reconhecemos que isso é uma falha terrível nos dias de hoje e estamos trabalhando para melhorar essa situação. Agradecemos seu feedback e vamos reforçar a importância de oferecer um atendimento adequado a todos os nossos clientes. Quanto à questão da cadeirante que estava acompanhando, pedimos desculpas pela falta de apoio e interesse dos nossos funcionários. Vamos reforçar a importância de um atendimento adequado a todos os nossos clientes, incluindo aos que se encontram em situações de exclusão. Quanto aos pontos positivos mencionados em sua avaliação, estamos felizes em saber que você gostou da comida e do atendimento interno. Esperamos ter a oportunidade de recebê-lo novamente em nosso restaurante.\n"
     ]
    }
   ],
   "source": [
    "comment='''A falta de vaga para cadeirantes e idosos é uma falha terrível nos dias de hoje, além de ser lei não tivemos nenhum apoio ou mesmo interesse por parte dos funcionários para ajudar na questão do cadeirante que estava nos acompanhado.\n",
    "Não vou deixar de avaliar os outros pontos, no que tange ao atendimento interno e as delícias que são servidas. tudo de bom. \n",
    "Mas não vá com cadeirante que passará sufoco.'''\n",
    "inference(model, gen_input(comment))"
   ]
  },
  {
   "cell_type": "code",
   "execution_count": null,
   "metadata": {},
   "outputs": [],
   "source": []
  },
  {
   "cell_type": "code",
   "execution_count": 19,
   "metadata": {},
   "outputs": [
    {
     "name": "stdout",
     "output_type": "stream",
     "text": [
      "<human>: Escreva, em Português, um comentário de resposta a ao seguinte comentário de um cliente ao seu restaurante: \n",
      "Horrível! Restaurante vazio e o atendimento ainda demora. Pedi um frango e veio com gosto de de peixe. Nojo!\n",
      "<assistant>: Olá, agradecemos pelo seu feedback. Lamentamos muito pela experiência negativa que você teve em nosso restaurante. Pedimos desculpas pelo atendimento demorado e pelo frango com gosto de peixe. Vamos investigar o ocorrido e tomar as medidas necessárias para melhorar esses pontos negativos. Agradecemos por nos informar sobre sua experiência e esperamos ter a oportunidade de recebê-la novamente para uma experiência melhor.\n"
     ]
    }
   ],
   "source": [
    "comment = 'Horrível! Restaurante vazio e o atendimento ainda demora. Pedi um frango e veio com gosto de de peixe. Nojo!'\n",
    "inference(model, gen_input(comment))"
   ]
  },
  {
   "cell_type": "code",
   "execution_count": 20,
   "metadata": {},
   "outputs": [
    {
     "name": "stdout",
     "output_type": "stream",
     "text": [
      "<human>: Escreva, em Português, um comentário de resposta a ao seguinte comentário de um cliente ao seu restaurante: \n",
      "Horrível! Restaurante vazio e o atendimento ainda demora. Pedi um frango e veio com gosto de de peixe. Nojo!\n",
      "<assistant>: Olá, agradecemos pelo seu feedback. Lamentamos muito pela experiência negativa que você teve em nosso restaurante. Pedimos desculpas pelo atendimento demorado e pelo frango com gosto de peixe. Vamos investigar o ocorrido e tomar as medidas necessárias para melhorar esses pontos negativos. Agradecemos por nos informar sobre sua experiência e esperamos ter a oportunidade de recebê-la novamente para uma experiência melhor.\n"
     ]
    }
   ],
   "source": [
    "comment = 'Horrível! Restaurante vazio e o atendimento ainda demora. Pedi um frango e veio com gosto de de peixe. Nojo!'\n",
    "inference(model, gen_input(comment))"
   ]
  },
  {
   "cell_type": "code",
   "execution_count": 21,
   "metadata": {},
   "outputs": [
    {
     "name": "stdout",
     "output_type": "stream",
     "text": [
      "<human>: Escreva, em Português, um comentário de resposta a ao seguinte comentário de um cliente ao seu restaurante: \n",
      "Lugar estava quente e, apesar de poucos usuários, a comida demorou bastante a ficar pronta.\n",
      "<assistant>: Caro cliente, agradecemos por compartilhar sua experiência conosco. Lamentamos que a temperatura do nosso estabelecimento tenha sido desconfortável e que a espera pela comida tenha sido longa. Vamos revisar nossos processos para garantir que isso não aconteça novamente. Agradecemos seu feedback e esperamos ter a oportunidade de recebê-lo novamente em nosso restaurante.\n"
     ]
    }
   ],
   "source": [
    "comment = 'Lugar estava quente e, apesar de poucos usuários, a comida demorou bastante a ficar pronta.'\n",
    "inference(model, gen_input(comment))"
   ]
  },
  {
   "cell_type": "code",
   "execution_count": 22,
   "metadata": {},
   "outputs": [
    {
     "name": "stdout",
     "output_type": "stream",
     "text": [
      "<human>: Escreva, em Português, um comentário de resposta a ao seguinte comentário de um cliente ao seu restaurante: \n",
      "Com o aumento do público nos finais de semana, poderiam conciliar o atendimento na área interna com a área externa, pois quem fica do lado de fora espera cerca de 40 min pra ser atendido.\n",
      "<assistant>: Caro cliente, agradecemos por compartilhar sua experiência conosco. Lamentamos profundamente pela demora no atendimento em nosso restaurante. Vamos reforçar a comunicação entre nossos funcionários para que isso não aconteça novamente. Agradecemos seu feedback e esperamos ter a oportunidade de recebê-lo novamente em nosso estabelecimento.\n"
     ]
    }
   ],
   "source": [
    "comment = 'Com o aumento do público nos finais de semana, poderiam conciliar o atendimento na área interna com a área externa, pois quem fica do lado de fora espera cerca de 40 min pra ser atendido.'\n",
    "inference(model, gen_input(comment))"
   ]
  },
  {
   "cell_type": "code",
   "execution_count": null,
   "metadata": {},
   "outputs": [],
   "source": []
  },
  {
   "cell_type": "code",
   "execution_count": 23,
   "metadata": {},
   "outputs": [
    {
     "name": "stdout",
     "output_type": "stream",
     "text": [
      "<human>: Escreva, em Português, um comentário de resposta a ao seguinte comentário de um cliente ao seu restaurante: \n",
      "O pior yakisoba que eu já comi na vida! Vem numa caixa com a massa toda amassada e o molho é horrível! Tive que jogar fora! Parecia comida de cachorro! Nunca mais!\n",
      "<assistant>: Olá, agradecemos pelo seu feedback sobre o nosso yakisoba. Lamentamos muito que a sua experiência não tenha sido satisfatória. Vamos revisar nossos processos para garantir que isso não aconteça novamente. Agradecemos por nos informar sobre essa questão.\n"
     ]
    }
   ],
   "source": [
    "comment = 'O pior yakisoba que eu já comi na vida! Vem numa caixa com a massa toda amassada e o molho é horrível! Tive que jogar fora! Parecia comida de cachorro! Nunca mais!'\n",
    "inference(model, gen_input(comment))"
   ]
  },
  {
   "cell_type": "code",
   "execution_count": 24,
   "metadata": {},
   "outputs": [
    {
     "name": "stdout",
     "output_type": "stream",
     "text": [
      "<human>: Escreva, em Português, um comentário de resposta a ao seguinte comentário de um cliente ao seu restaurante: \n",
      "Cheguei para tomar café as 7h da manhã, pouquíssimas pessoas,pedi um omelete levou 23 minutos a essa altura meu café já havia acabado, e chegou uma pessoa depois de mim e o pedido dela que era muito mais que o meu simples omelete saiu primeiro.\n",
      "Péssimo atendimento.\n",
      "Já fui bem atendida por outros  funcionários  mais essa turma da manhã 3 pessoas nota 2.\n",
      "<assistant>: Caro cliente, lamentamos profundamente pela experiência negativa que você teve em nosso restaurante. Pedimos desculpas pelo atraso na entrega do seu pedido e pela demora no atendimento. Reconhecemos que isso não correspondeu às nossas expectativas e que não atendeu às suas expectativas em relação ao atendimento. Levaremos suas críticas em consideração para melhorar nosso serviço. Agradecemos por compartilhar sua opinião e esperamos ter a oportunidade de recebê-lo novamente para uma experiência melhor.\n"
     ]
    }
   ],
   "source": [
    "comment= '''Cheguei para tomar café as 7h da manhã, pouquíssimas pessoas ,pedi um omelete levou 23 minutos a essa altura meu café já havia acabado, e chegou uma pessoa depois de mim e o pedido dela que era muito mais que o meu simples omelete saiu primeiro.\n",
    "Péssimo atendimento .\n",
    "Já fui bem atendida por outros  funcionários  mais essa turma da manhã 3 pessoas nota 2.'''\n",
    "inference(model, gen_input(comment))"
   ]
  },
  {
   "cell_type": "code",
   "execution_count": 25,
   "metadata": {},
   "outputs": [
    {
     "name": "stdout",
     "output_type": "stream",
     "text": [
      "<human>: Escreva, em Português, um comentário de resposta a ao seguinte comentário de um cliente ao seu restaurante: \n",
      "Não recomendo! Não faz muito meu estilo cantar para quem não conheço, coisa que é impossível sem marcar antes. Sim, existem vários ambientes tocando estilos diferentes mas é necessário muita sorte para conseguir um lugar onde todos gostem do que está tocando. Sem falar que, se tratando do karaokê: ninguém é profissional por isso as performances são horríveis e a musica e letra são retiradas do YouTube, mas mesmo assim o espaço insiste em cobrar entrada! Para finalizar a comida, que é bem cara, veio fria e não gostei de nada que comi! Nem a bebida salvou minha noite, paguei um absurdo pela menor porção de caipirinha que já vi! Teria feito melhor na minha casa!\n",
      "<assistant>: Olá, agradecemos pelo seu feedback sobre a sua experiência em nosso restaurante. Lamentamos que a música e a letra tenham sido retiradas do YouTube, isso pode ter causado uma má impressão. Vamos revisar nossos processos para garantir que isso não aconteça novamente. Quanto à comida, pedimos desculpas pela qualidade insatisfatória e pela temperatura errada. Vamos investigar o ocorrido para evitar que isso aconteça novamente. Quanto à bebida, lamentamos que a porção não tenha atendido às suas expectativas. Vamos revisar nossos preços para garantir que estejam de acordo com a qualidade dos produtos. Agradecemos por nos informar sobre esses pontos negativos e esperamos ter a oportunidade de recebê-la novamente para uma experiência melhor.\n"
     ]
    }
   ],
   "source": [
    "#treino\n",
    "comment='Não recomendo! Não faz muito meu estilo cantar para quem não conheço, coisa que é impossível sem marcar antes. Sim, existem vários ambientes tocando estilos diferentes mas é necessário muita sorte para conseguir um lugar onde todos gostem do que está tocando. Sem falar que, se tratando do karaokê: ninguém é profissional por isso as performances são horríveis e a musica e letra são retiradas do YouTube, mas mesmo assim o espaço insiste em cobrar entrada! Para finalizar a comida, que é bem cara, veio fria e não gostei de nada que comi! Nem a bebida salvou minha noite, paguei um absurdo pela menor porção de caipirinha que já vi! Teria feito melhor na minha casa!'\n",
    "\n",
    "inference(model, gen_input(comment))"
   ]
  },
  {
   "cell_type": "code",
   "execution_count": 26,
   "metadata": {},
   "outputs": [
    {
     "name": "stdout",
     "output_type": "stream",
     "text": [
      "<human>: Escreva, em Português, um comentário de resposta a ao seguinte comentário de um cliente ao seu restaurante: \n",
      "Eu gosto muito de tomar café aos domingos nessa panificadora, porém não sei o que esta acontecendo, ela está ficando muito suja.\n",
      "Gosto da parte de cima,mas quando chego as mesas estão todas sujas, com xícaras, resto de lanches e etc.\n",
      "Acredito que não estão higienizando.\n",
      "Outro detalhe a tapioca está vindo muito salgada.\n",
      "Espero que melhore, para que possamos continuar frequentando.\n",
      "<assistant>: Olá, agradecemos pelo seu feedback sobre a nossa panificadora. Lamentamos muito pela sujeira e a falta de higienização. Vamos reforçar a importância da limpeza e higienização com nossa equipe. Quanto à tapioca, vamos revisar a preparação para garantir que esteja de acordo com as expectativas dos nossos clientes. Agradecemos por nos informar sobre esses pontos negativos e esperamos poder recebê-la novamente em breve.\n"
     ]
    }
   ],
   "source": [
    "#treino\n",
    "comment = '''Eu gosto muito de tomar café aos domingos nessa panificadora, porém não sei o que esta acontecendo, ela está ficando muito suja.\n",
    "Gosto da parte de cima,mas quando chego as mesas estão todas sujas, com xícaras, resto de lanches e etc.\n",
    "Acredito que não estão higienizando.\n",
    "Outro detalhe a tapioca está vindo muito salgada.\n",
    "Espero que melhore, para que possamos continuar frequentando.'''\n",
    "inference(model, gen_input(comment))"
   ]
  },
  {
   "cell_type": "markdown",
   "metadata": {},
   "source": []
  },
  {
   "cell_type": "code",
   "execution_count": 27,
   "metadata": {},
   "outputs": [
    {
     "name": "stdout",
     "output_type": "stream",
     "text": [
      "<human>: Escreva, em Português, um comentário de resposta a ao seguinte comentário de um cliente ao seu restaurante: \n",
      "Eu gostaria de deixar minha indignação quanto o atendimento de um garçom.\n",
      "Não estou  reclamando do restaurante.\n",
      "Estive no restaurante umas duas vezes, foi tudo muito bom.\n",
      "Mas me decepcionei na minha ultima vez.\n",
      "Foi atendida por um garçom mal educado e sem ética pois o mesmo alem de ser Grosso ficava olhando para as minhas pernas. Fiquei muito constrangida com a situação.\n",
      "Almoçamos tomamos. Sucos e cervejas, mesmo porque estavamos em 6 pessoas.\n",
      "No final pedimos a conta e o mesmo  trouxe duas contas uma com mais itens incluindo a refeiçao, outra somente com as bebidas,achei estranho porque tinham me cobrado normal das últimas vezes. Em fim.\n",
      "Como um gestor de um restaurante contrata pessoas sem conhecer seu carater?\n",
      "Tudo bem que a mão de obra de estrangeiros seja mais barata. Mas vocês teriam que pensar no bem estar dos clientes.\n",
      "Descobri o nome do garçom.\n",
      "CARLOS AMED. Ele é cubano.\n",
      "Ia fazer uma denuncia por assedio mas pensei na empresa. Por favor selecione melhor seus colaboradores.\n",
      "Muito indignada.\n",
      "<assistant>: Caro cliente,\n",
      "\n",
      "Lamentamos profundamente pela experiência negativa que você teve em nosso restaurante. Pedimos desculpas pelo comportamento inadequado do nosso garçom, que não refletiu a nossa política de respeito e ética.\n",
      "\n",
      "Também levamos seu feedback a sério e estamos investigando o ocorrido para garantir que isso não se repita.\n",
      "\n",
      "Agradecemos por nos informar sobre o nome do garçom e vamos tomar medidas imediatas para garantir que isso não se repita.\n",
      "\n",
      "Valorizamos a satisfação dos nossos clientes e estamos comprometidos em melhorar nosso serviço de atendimento.\n",
      "\n",
      "Esperamos ter a oportunidade de recebê-lo novamente em nosso restaurante e proporcionar uma experiência positiva.\n",
      "\n",
      "Atenciosamente,\n",
      "A equipe do restaurante\n"
     ]
    }
   ],
   "source": [
    "comment = '''Eu gostaria de deixar minha indignação quanto o atendimento de um garçom.\n",
    "Não estou  reclamando do restaurante.\n",
    "Estive no restaurante umas duas vezes, foi tudo muito bom.\n",
    "Mas me decepcionei na minha ultima vez.\n",
    "Foi atendida por um garçom mal educado e sem ética pois o mesmo alem de ser Grosso ficava olhando para as minhas pernas. Fiquei muito constrangida com a situação.\n",
    "Almoçamos tomamos. Sucos e cervejas, mesmo porque estavamos em 6 pessoas.\n",
    "No final pedimos a conta e o mesmo  trouxe duas contas uma com mais itens incluindo a refeiçao, outra somente com as bebidas,achei estranho porque tinham me cobrado normal das últimas vezes. Em fim.\n",
    "Como um gestor de um restaurante contrata pessoas sem conhecer seu carater?\n",
    "Tudo bem que a mão de obra de estrangeiros seja mais barata. Mas vocês teriam que pensar no bem estar dos clientes.\n",
    "Descobri o nome do garçom.\n",
    "CARLOS AMED. Ele é cubano.\n",
    "Ia fazer uma denuncia por assedio mas pensei na empresa. Por favor selecione melhor seus colaboradores.\n",
    "Muito indignada.'''\n",
    "\n",
    "inference(model, gen_input(comment))"
   ]
  },
  {
   "cell_type": "code",
   "execution_count": 28,
   "metadata": {},
   "outputs": [
    {
     "name": "stdout",
     "output_type": "stream",
     "text": [
      "<human>: Escreva, em Português, um comentário de resposta a ao seguinte comentário de um cliente ao seu restaurante: \n",
      "Fui no dia 10/12/21 às 11:00 o restaurante não tinha ninguém ainda, fui fazer um pedido para viagem. Depois de quase 30 minutos de espera percebo que tinham clientes que chegaram depois comendo...questionei um garçom pela demora do pedido foi averiguar e não deu nenhuma satisfação. Aí percebi depois que o pedido estava no balcão aguardando o favor de algum garçom pegar e olha que nem estava lotado o restaurante...desrespeito com o cliente e garçons mal treinados.. nunca mais nesse lugar.\n",
      "<assistant>: Caro cliente, lamentamos profundamente pela experiência negativa que você teve em nosso restaurante. Pedimos desculpas pela demora no atendimento e pela falta de atenção dos nossos garçons. Reconhecemos que isso causou uma má impressão e que não atendeu às suas expectativas. Levaremos suas observações em consideração para melhorar nossos serviços. Agradecemos por compartilhar sua experiência conosco e esperamos ter a oportunidade de recebê-lo novamente no futuro.\n"
     ]
    }
   ],
   "source": [
    "comment = \"Fui no dia 10/12/21 às 11:00 o restaurante não tinha ninguém ainda, fui fazer um pedido para viagem. Depois de quase 30 minutos de espera percebo que tinham clientes que chegaram depois comendo...questionei um garçom pela demora do pedido foi averiguar e não deu nenhuma satisfação. Aí percebi depois que o pedido estava no balcão aguardando o favor de algum garçom pegar e olha que nem estava lotado o restaurante...desrespeito com o cliente e garçons mal treinados.. nunca mais nesse lugar.\"\n",
    "inference(model, gen_input(comment))"
   ]
  },
  {
   "cell_type": "code",
   "execution_count": 29,
   "metadata": {},
   "outputs": [
    {
     "name": "stdout",
     "output_type": "stream",
     "text": [
      "<human>: Escreva, em Português, um comentário de resposta a ao seguinte comentário de um cliente ao seu restaurante: \n",
      "Só não dou zero porque não dá e porque a torta de frango estava boazinha. Priorizam quem tem aparência de ter mais dinheiro e os garçons não fazem questão alguma de atender as pessoas. Olharam na minha cara, passaram direto até que eu implorasse pra ser atendida. :) Não anotaram meu pedido e ainda queriam colocar a culpa em mim pelo esquecimento. Enfim, não volto!\n",
      "<assistant>: Caro cliente, lamentamos profundamente pela experiência negativa que você teve em nosso restaurante. Pedimos desculpas pelo atendimento insatisfatório que você recebeu e pela falta de atenção dos nossos garçons. Levaremos suas críticas em consideração para melhorar nossos serviços. Quanto à torta de frango, vamos revisar nossos processos para garantir que todos os pratos sejam preparados de forma adequada. Agradecemos seu feedback e esperamos ter a oportunidade de recebê-lo novamente para uma experiência melhor.\n"
     ]
    }
   ],
   "source": [
    "comment = \"Só não dou zero porque não dá e porque a torta de frango estava boazinha. Priorizam quem tem aparência de ter mais dinheiro e os garçons não fazem questão alguma de atender as pessoas. Olharam na minha cara, passaram direto até que eu implorasse pra ser atendida. :) Não anotaram meu pedido e ainda queriam colocar a culpa em mim pelo esquecimento. Enfim, não volto!\"\n",
    "inference(model, gen_input(comment))"
   ]
  },
  {
   "cell_type": "code",
   "execution_count": 30,
   "metadata": {},
   "outputs": [
    {
     "name": "stdout",
     "output_type": "stream",
     "text": [
      "<human>: Escreva, em Português, um comentário de resposta a ao seguinte comentário de um cliente ao seu restaurante: \n",
      "Pedimos um prato de bife ao molho madeira sendo que o feijão veio com gosto de molho madeira e o bife veio com gosto de queijo então eu recomendaria que vocês se dedicassem mais e as atende vistas são muito de humor baixo\n",
      "<assistant>: Olá, agradecemos pelo seu feedback. Lamentamos muito pela experiência negativa que você teve com o nosso prato de bife ao molho madeira. Vamos investigar o ocorrido e tomar as medidas necessárias para garantir que isso não se repita. Quanto ao feijão, vamos revisar nossos processos de preparo para garantir que não haja confusão de sabores. Quanto às atitudes de nossos atendentes, vamos reforçar a importância do bom humor e da cordialidade. Agradecemos por nos informar sobre esses pontos negativos e esperamos ter a oportunidade de recebê-la novamente para uma experiência melhor.\n"
     ]
    }
   ],
   "source": [
    "comment = \"Pedimos um prato de bife ao molho madeira sendo que o feijão veio com gosto de molho madeira e o bife veio com gosto de queijo então eu recomendaria que vocês se dedicassem mais e as atende vistas são muito de humor baixo\"\n",
    "\n",
    "inference(model, gen_input(comment))"
   ]
  },
  {
   "cell_type": "code",
   "execution_count": 31,
   "metadata": {},
   "outputs": [
    {
     "name": "stdout",
     "output_type": "stream",
     "text": [
      "<human>: Escreva, em Português, um comentário de resposta a ao seguinte comentário de um cliente ao seu restaurante: \n",
      "Pedi no ifood camarão empanado e mandaram camarão alho e óleo muito sem graça e poucas unidades. Fui inventar de experimentar por causa da propaganda no Instagram e me ferrei! Não recomendo.\n",
      "<assistant>: Olá, agradecemos pelo seu feedback sobre a sua experiência com o nosso camarão empanado. Lamentamos que a qualidade do seu pedido não tenha atendido às suas expectativas. Vamos revisar nossos processos para garantir que isso não aconteça novamente. Agradecemos por nos informar e esperamos ter a oportunidade de melhor atendê-la no futuro.\n"
     ]
    }
   ],
   "source": [
    "comment = \"Pedi no ifood camarão empanado e mandaram camarão alho e óleo muito sem graça e poucas unidades. Fui inventar de experimentar por causa da propaganda no Instagram e me ferrei! Não recomendo.\"\n",
    "\n",
    "inference(model, gen_input(comment))"
   ]
  },
  {
   "cell_type": "code",
   "execution_count": 32,
   "metadata": {},
   "outputs": [
    {
     "name": "stderr",
     "output_type": "stream",
     "text": [
      "/home/matheusalb/anaconda3/envs/llm/lib/python3.11/site-packages/transformers/generation/utils.py:1448: UserWarning: You are calling .generate() with the `input_ids` being on a device type different than your model's device. `input_ids` is on cpu, whereas the model is on cuda. You may experience unexpected behaviors or slower generation. Please make sure that you have put `input_ids` to the correct device by calling for example input_ids = input_ids.to('cuda') before running `.generate()`.\n",
      "  warnings.warn(\n",
      "/home/matheusalb/anaconda3/envs/llm/lib/python3.11/site-packages/torch/utils/checkpoint.py:31: UserWarning: None of the inputs have requires_grad=True. Gradients will be None\n",
      "  warnings.warn(\"None of the inputs have requires_grad=True. Gradients will be None\")\n"
     ]
    },
    {
     "name": "stdout",
     "output_type": "stream",
     "text": [
      "<human>: Escreva, em Português, um comentário de resposta a ao seguinte comentário de um cliente ao seu restaurante: \n",
      "A comida é boa, mas o atendimento é bem ruim e ainda fazem de tudo pra fazer com que o cliente esteja errado. Esperei 1:10h pelo meu pedido (picanha pra 3p) e depois de ver 2 mesas de pessoas que chegaram depois de mim, receberem seus pedido, reclamei com o garçom, que disse q ainda tinham 4 pedidos na minha frente. Quase enlouqueci. Mas na verdade, eles entregaram meu pedido na outra mesa e eles não queriam admitir. Só não fui embora pq estávamos em grupo e todos com fome. E ainda demorou mais 15min depois disso. Pedi desconto no jantar e não deram nem desculpas pelo ocorrido. NÃO recomendo o local por isso.\n",
      "<assistant>: Caro cliente, lamentamos profundamente pela experiência negativa que você teve em nosso restaurante. Pedimos desculpas pelo atraso no seu pedido e pela falta de comunicação adequada sobre o ocorrido. Reconhecemos que isso causou uma má impressão e que não atendemos às suas expectativas em relação ao atendimento. Agradecemos por nos informar sobre esses pontos negativos e vamos trabalhar para melhorar esses aspectos. Quanto ao desconto solicitado, entendemos sua frustração e vamos revisar nossos procedimentos internos para evitar que isso aconteça novamente. Agradecemos por nos informar sobre essa questão e esperamos ter a oportunidade de recebê-lo novamente em nosso estabelecimento.\n"
     ]
    }
   ],
   "source": [
    "comment = \"A comida é boa, mas o atendimento é bem ruim e ainda fazem de tudo pra fazer com que o cliente esteja errado. Esperei 1:10h pelo meu pedido (picanha pra 3p) e depois de ver 2 mesas de pessoas que chegaram depois de mim, receberem seus pedido, reclamei com o garçom, que disse q ainda tinham 4 pedidos na minha frente. Quase enlouqueci. Mas na verdade, eles entregaram meu pedido na outra mesa e eles não queriam admitir. Só não fui embora pq estávamos em grupo e todos com fome. E ainda demorou mais 15min depois disso. Pedi desconto no jantar e não deram nem desculpas pelo ocorrido. NÃO recomendo o local por isso.\"\n",
    "inference(model, gen_input(comment))"
   ]
  },
  {
   "cell_type": "code",
   "execution_count": 33,
   "metadata": {},
   "outputs": [
    {
     "name": "stdout",
     "output_type": "stream",
     "text": [
      "<human>: Escreva, em Português, um comentário de resposta a ao seguinte comentário de um cliente ao seu restaurante: \n",
      "Salgados bem caros, sem tamanho ou sabor correspondente. Coxinhas por R$18 ou empanado por R$20. Compramos uma torta de R$200 e não nos permitiram comer a mesma na doceria? Tinha que pegar e ir comer em outro lugar pois é “política da empresa”. Lamentável, eu e minha família não retornamos mais, e somos consumidores fiéis de tortas por aí.\n",
      "<assistant>: Caro cliente, agradecemos por compartilhar sua experiência conosco. Lamentamos que a quantidade e o tamanho dos salgados não tenham atendido às suas expectativas. Vamos revisar nossos processos para garantir que isso não aconteça novamente. Quanto à política de não comer a torta em nosso estabelecimento, entendemos sua frustração e vamos reforçar a importância de respeitar essa regra. Agradecemos seu feedback e esperamos ter a oportunidade de recebê-lo novamente em nosso restaurante.\n"
     ]
    }
   ],
   "source": [
    "comment = \"Salgados bem caros, sem tamanho ou sabor correspondente. Coxinhas por R$18 ou empanado por R$20. Compramos uma torta de R$200 e não nos permitiram comer a mesma na doceria? Tinha que pegar e ir comer em outro lugar pois é “política da empresa”. Lamentável, eu e minha família não retornamos mais, e somos consumidores fiéis de tortas por aí.\"\n",
    "inference(model, gen_input(comment))"
   ]
  },
  {
   "cell_type": "code",
   "execution_count": 20,
   "metadata": {},
   "outputs": [
    {
     "name": "stdout",
     "output_type": "stream",
     "text": [
      "<human>: Escreva, em Português, um comentário de resposta a ao seguinte comentário de um cliente ao seu restaurante: \n",
      "Lugar supostamente temático, com artistas de acordo com o tema piratas, porém, tocando axe, pagode e tudo que não coincide com o local.\n",
      "\n",
      "Infelizmente é notório que o atendimento é enrolado, de baixa qualidade e muito demorado.\n",
      "\n",
      "São cobrada taxas pelos usos de brinquedos e entrada com bolo de aniversário. Além disso tivemos problemas para unir mesas, como se fosse um crime fazer isso.\n",
      "\n",
      "Não recomendo para pessoas que gostam de bom atendimento.\n",
      "<assistant>: Caro cliente, agradecemos por compartilhar sua experiência conosco. Lamentamos que a sua visita não tenha atendido às suas expectativas em relação ao tema piratas e ao tipo de música tocada. Vamos revisar nossos artistas para garantir que estejam mais em sintonia com o ambiente. Quanto ao atendimento, vamos reforçar a importância de um serviço de qualidade para todos os nossos clientes. Quanto às taxas pelos usos de brinquedos e entrada com bolo de aniversário, vamos revisar nossos processos para garantir que sejam aplicadas corretamente. Pedimos desculpas pelos problemas que você enfrentou para unir mesas, vamos trabalhar para melhorar essa questão. Agradecemos por nos informar sobre esses pontos negativos e esperamos ter a oportunidade de recebê-lo novamente para uma experiência melhor.\n"
     ]
    }
   ],
   "source": [
    "comment='''Lugar supostamente temático, com artistas de acordo com o tema piratas, porém, tocando axe, pagode e tudo que não coincide com o local.\n",
    "\n",
    "Infelizmente é notório que o atendimento é enrolado, de baixa qualidade e muito demorado.\n",
    "\n",
    "São cobrada taxas pelos usos de brinquedos e entrada com bolo de aniversário. Além disso tivemos problemas para unir mesas, como se fosse um crime fazer isso.\n",
    "\n",
    "Não recomendo para pessoas que gostam de bom atendimento.'''\n",
    "\n",
    "inference(model, gen_input(comment))"
   ]
  },
  {
   "cell_type": "code",
   "execution_count": 8,
   "metadata": {},
   "outputs": [
    {
     "name": "stderr",
     "output_type": "stream",
     "text": [
      "/home/matheusalb/anaconda3/envs/llm/lib/python3.11/site-packages/transformers/generation/utils.py:1255: UserWarning: You have modified the pretrained model configuration to control generation. This is a deprecated strategy to control generation and will be removed soon, in a future version. Please use a generation configuration file (see https://huggingface.co/docs/transformers/main_classes/text_generation)\n",
      "  warnings.warn(\n"
     ]
    },
    {
     "name": "stdout",
     "output_type": "stream",
     "text": [
      "<human>: Escreva, em Português, um comentário de resposta a ao seguinte comentário de um cliente ao seu restaurante: \n",
      "Num espaço maravilhoso, um Churrasco requentado, ressecado e caro. A aparência dos alimentos não foi convidativa. Pedimos  picanha, maminha, língua e carneiro. Pedimos vinagrete. A porção era pequena demais para 3 pessoas; e é feito com ingredientes tão baratos...\n",
      "Insatisfação total. Oferecem bebida insistentemente na mesa. Jamais voltarei lá.\n",
      "<assistant>: Caro cliente, lamentamos profundamente que sua experiência em nosso restaurante não tenha sido satisfatória. Pedimos desculpas pela qualidade do churrasco, que não atendeu às suas expectativas. Vamos revisar nossos processos para garantir que isso não aconteça novamente. Quanto à aparência dos alimentos, levaremos seu feedback em consideração para melhorar a apresentação. Quanto ao vinagrete, vamos revisar nossos ingredientes para garantir que ele esteja de acordo com as suas expectativas. Agradecemos por nos informar sobre a quantidade insatisfatória da porção de vinagrete, que vamos avaliar para garantir que isso não aconteça novamente. Quanto à oferta de bebidas, entendemos que isso pode ter sido insistentemente solicitado e vamos reforçar a nossa equipe para que isso não aconteça novamente. Agradecemos por compartilhar sua opinião e esperamos ter a oportunidade de recebê-lo novamente para uma experiência melhor.\n"
     ]
    }
   ],
   "source": [
    "comment= '''\n",
    "Num espaço maravilhoso, um Churrasco requentado, ressecado e caro. A aparência dos alimentos não foi convidativa. Pedimos  picanha, maminha, língua e carneiro. Pedimos vinagrete. A porção era pequena demais para 3 pessoas; e é feito com ingredientes tão baratos...\n",
    "Insatisfação total. Oferecem bebida insistentemente na mesa. Jamais voltarei lá.\n",
    "'''.strip()\n",
    "\n",
    "inference(model, gen_input(comment))"
   ]
  },
  {
   "cell_type": "code",
   "execution_count": null,
   "metadata": {},
   "outputs": [],
   "source": []
  },
  {
   "cell_type": "code",
   "execution_count": null,
   "metadata": {},
   "outputs": [],
   "source": []
  },
  {
   "cell_type": "code",
   "execution_count": null,
   "metadata": {},
   "outputs": [],
   "source": []
  },
  {
   "cell_type": "code",
   "execution_count": null,
   "metadata": {},
   "outputs": [],
   "source": []
  },
  {
   "cell_type": "code",
   "execution_count": 17,
   "metadata": {},
   "outputs": [
    {
     "name": "stdout",
     "output_type": "stream",
     "text": [
      "<human>: Escreva, em Português, um comentário de resposta a ao seguinte comentário de um cliente ao seu restaurante: \n",
      "Num espaço maravilhoso, um Churrasco requentado, ressecado e caro. A aparência dos alimentos não foi convidativa. Pedimos  picanha, maminha, língua e carneiro. Pedimos vinagrete. A porção era pequena demais para 3 pessoas; e é feito com ingredientes tão baratos...\n",
      "Insatisfação total. Oferecem bebida insistentemente na mesa. Jamais voltarei lá.\n",
      "<assistant>: Caro cliente,\n",
      "\n",
      "Lamentamos profundamente que sua experiência em nosso restaurante não tenha sido satisfatória. Pedimos desculpas pela aparência e sabor insatisfatórios dos alimentos que foram servidos. Reconhecemos que a quantidade de comida oferecida não foi adequada para três pessoas e que a porção de vinagrete também foi insatisfatória.\n",
      "\n",
      "Quanto à insistência em oferecer bebida, entendemos que isso possa ter sido desconfortável para você. Agradecemos por nos informar sobre essa questão e vamos reforçar a nossa equipe para que eles sejam mais cuidadosos em relação a isso.\n",
      "\n",
      "Valorizamos a opinião de nossos clientes e levaremos suas críticas em consideração para melhorar nossos serviços. Esperamos ter a oportunidade de recebê-lo novamente e proporcionar uma experiência gastronômica mais satisfatória.\n",
      "\n",
      "Atenciosamente,\n",
      "A equipe do restaurante\n"
     ]
    }
   ],
   "source": [
    "comment= '''\n",
    "Num espaço maravilhoso, um Churrasco requentado, ressecado e caro. A aparência dos alimentos não foi convidativa. Pedimos  picanha, maminha, língua e carneiro. Pedimos vinagrete. A porção era pequena demais para 3 pessoas; e é feito com ingredientes tão baratos...\n",
    "Insatisfação total. Oferecem bebida insistentemente na mesa. Jamais voltarei lá.\n",
    "'''.strip()\n",
    "\n",
    "inference(model, gen_input(comment), temperature=0.2)"
   ]
  },
  {
   "cell_type": "code",
   "execution_count": 18,
   "metadata": {},
   "outputs": [
    {
     "name": "stdout",
     "output_type": "stream",
     "text": [
      "<human>: Escreva, em Português, um comentário de resposta a ao seguinte comentário de um cliente ao seu restaurante: \n",
      "Num espaço maravilhoso, um Churrasco requentado, ressecado e caro. A aparência dos alimentos não foi convidativa. Pedimos  picanha, maminha, língua e carneiro. Pedimos vinagrete. A porção era pequena demais para 3 pessoas; e é feito com ingredientes tão baratos...\n",
      "Insatisfação total. Oferecem bebida insistentemente na mesa. Jamais voltarei lá.\n",
      "<assistant>: Caro cliente, lamentamos muito que sua experiência em nosso restaurante não tenha sido satisfatória. Pedimos desculpas pela aparência e sabor dos alimentos, assim como pela quantidade inadequada do vinagrete. Vamos revisar nossos processos para garantir que isso não aconteça novamente. Agradecemos seu feedback e esperamos ter a oportunidade de melhor atendê-lo no futuro.\n"
     ]
    }
   ],
   "source": [
    "comment= '''\n",
    "Num espaço maravilhoso, um Churrasco requentado, ressecado e caro. A aparência dos alimentos não foi convidativa. Pedimos  picanha, maminha, língua e carneiro. Pedimos vinagrete. A porção era pequena demais para 3 pessoas; e é feito com ingredientes tão baratos...\n",
    "Insatisfação total. Oferecem bebida insistentemente na mesa. Jamais voltarei lá.\n",
    "'''.strip()\n",
    "\n",
    "inference(model, gen_input(comment), temperature=0.2)"
   ]
  },
  {
   "cell_type": "code",
   "execution_count": 23,
   "metadata": {},
   "outputs": [
    {
     "name": "stdout",
     "output_type": "stream",
     "text": [
      "<human>: Escreva, em Português, um comentário de resposta a ao seguinte comentário de um cliente ao seu restaurante: \n",
      "Num espaço maravilhoso, um Churrasco requentado, ressecado e caro. A aparência dos alimentos não foi convidativa. Pedimos  picanha, maminha, língua e carneiro. Pedimos vinagrete. A porção era pequena demais para 3 pessoas; e é feito com ingredientes tão baratos...\n",
      "Insatisfação total. Oferecem bebida insistentemente na mesa. Jamais voltarei lá.\n",
      "<assistant>: Caro cliente, lamentamos profundamente que sua experiência em nosso restaurante não tenha sido satisfatória. Pedimos desculpas pela qualidade do churrasco, que não atendeu às suas expectativas. Vamos revisar nossos processos para garantir que isso não aconteça novamente. Quanto à aparência dos alimentos, levaremos seu feedback em consideração para melhorar a apresentação. Quanto ao vinagrete, vamos revisar nossos ingredientes para garantir que seja mais satisfatório. Agradecemos por nos informar sobre a quantidade insatisfatória da porção de vinagrete, que vamos corrigir. Quanto à oferta de bebidas, entendemos que isso possa ter sido insistentemente solicitado e vamos reforçar a nossa equipe para que isso não aconteça novamente. Agradecemos por compartilhar sua opinião e esperamos ter a oportunidade de recebê-lo novamente para uma experiência melhor.\n"
     ]
    }
   ],
   "source": [
    "comment= '''\n",
    "Num espaço maravilhoso, um Churrasco requentado, ressecado e caro. A aparência dos alimentos não foi convidativa. Pedimos  picanha, maminha, língua e carneiro. Pedimos vinagrete. A porção era pequena demais para 3 pessoas; e é feito com ingredientes tão baratos...\n",
    "Insatisfação total. Oferecem bebida insistentemente na mesa. Jamais voltarei lá.\n",
    "'''.strip()\n",
    "\n",
    "inference(model, gen_input(comment), temperature=0.01)"
   ]
  },
  {
   "cell_type": "code",
   "execution_count": 32,
   "metadata": {},
   "outputs": [
    {
     "name": "stdout",
     "output_type": "stream",
     "text": [
      "<human>: Escreva, em Português, um comentário de resposta a ao seguinte comentário de um cliente ao seu restaurante: \n",
      "Num espaço maravilhoso, um Churrasco requentado, ressecado e caro. A aparência dos alimentos não foi convidativa. Pedimos  picanha, maminha, língua e carneiro. Pedimos vinagrete. A porção era pequena demais para 3 pessoas; e é feito com ingredientes tão baratos...\n",
      "Insatisfação total. Oferecem bebida insistentemente na mesa. Jamais voltarei lá.\n",
      "<assistant>: Caro cliente, lamentamos profundamente que sua experiência em nosso restaurante não tenha sido satisfatória. Pedimos desculpas pela aparência e sabor insatisfatórios dos pratos que foram servidos. Vamos revisar nossos processos de preparo para garantir que isso não aconteça novamente. Quanto à quantidade dos pratos, vamos avaliar a quantidade adequada para servir em uma mesa. Agradecemos seu feedback e esperamos ter a oportunidade de melhor atendê-lo no futuro.\n"
     ]
    }
   ],
   "source": [
    "comment= '''\n",
    "Num espaço maravilhoso, um Churrasco requentado, ressecado e caro. A aparência dos alimentos não foi convidativa. Pedimos  picanha, maminha, língua e carneiro. Pedimos vinagrete. A porção era pequena demais para 3 pessoas; e é feito com ingredientes tão baratos...\n",
    "Insatisfação total. Oferecem bebida insistentemente na mesa. Jamais voltarei lá.\n",
    "'''.strip()\n",
    "\n",
    "inference(model, gen_input(comment), temperature=0.2)"
   ]
  },
  {
   "cell_type": "code",
   "execution_count": 31,
   "metadata": {},
   "outputs": [
    {
     "name": "stdout",
     "output_type": "stream",
     "text": [
      "<human>: Escreva, em Português, um comentário de resposta a ao seguinte comentário de um cliente ao seu restaurante: \n",
      "Comida cara e muito ruim. Comi picanha e estava muito dura, um arroz cremoso que estava totalmente sem tempero, muito ruim mesmo... O dadinho de tapioca foi frito em óleo Velho, pior que coxinha de péssima qualidade... O queijinho de entrada estava bom, as bebidas tbb... A conta deu 190,00, um casal com 1 criança. Pode ter certeza, que não voltaremos mais.\n",
      "<assistant>: Olá,\n",
      "\n",
      "Lamentamos muito pela experiência negativa que você teve em nosso restaurante. Pedimos desculpas pela qualidade da picanha e do arroz cremoso que você recebeu. Vamos revisar nossos processos para garantir que isso não aconteça novamente. Quanto ao dadinho de tapioca, vamos verificar a qualidade do óleo que utilizamos para preparar nossos pratos.\n",
      "\n",
      "Quanto à bebida, estamos felizes em saber que gostou. Agradecemos seu feedback sobre a conta também, vamos avaliar nossos preços para garantir que estejam de acordo com a qualidade dos nossos alimentos.\n",
      "\n",
      "Agradecemos por compartilhar sua experiência conosco e esperamos ter a oportunidade de recebê-la novamente para uma experiência melhor.\n",
      "\n",
      "Atenciosamente,\n",
      "A equipe do restaurante\n"
     ]
    }
   ],
   "source": [
    "comment = '''\n",
    "Comida cara e muito ruim. Comi picanha e estava muito dura, um arroz cremoso que estava totalmente sem tempero, muito ruim mesmo... O dadinho de tapioca foi frito em óleo Velho, pior que coxinha de péssima qualidade... O queijinho de entrada estava bom, as bebidas tbb... A conta deu 190,00, um casal com 1 criança. Pode ter certeza, que não voltaremos mais.\n",
    "'''.strip()\n",
    "\n",
    "inference(model, gen_input(comment), temperature=0.5)"
   ]
  },
  {
   "cell_type": "code",
   "execution_count": 37,
   "metadata": {},
   "outputs": [
    {
     "name": "stdout",
     "output_type": "stream",
     "text": [
      "<human>: Escreva, em Português, um comentário de resposta a ao seguinte comentário de um cliente ao seu restaurante: \n",
      "Comida cara e muito ruim. Comi picanha e estava muito dura, um arroz cremoso que estava totalmente sem tempero, muito ruim mesmo... O dadinho de tapioca foi frito em óleo Velho, pior que coxinha de péssima qualidade... O queijinho de entrada estava bom, as bebidas tbb... A conta deu 190,00, um casal com 1 criança. Pode ter certeza, que não voltaremos mais.\n",
      "<assistant>: Caro cliente, lamentamos muito pela experiência negativa que você teve em nosso restaurante. Pedimos desculpas pela comida que não atendeu às suas expectativas em relação ao preço e qualidade. Vamos revisar nossos processos de preparo para garantir que isso não aconteça novamente. Quanto à qualidade do arroz cremoso, vamos verificar o que aconteceu para que isso não se repita. Quanto ao dadinho de tapioca, vamos verificar a qualidade do óleo usado para preparar nossos pratos. Agradecemos por nos informar sobre esses pontos negativos e esperamos ter a oportunidade de melhor atendê-lo no futuro.\n"
     ]
    }
   ],
   "source": [
    "comment = '''\n",
    "Comida cara e muito ruim. Comi picanha e estava muito dura, um arroz cremoso que estava totalmente sem tempero, muito ruim mesmo... O dadinho de tapioca foi frito em óleo Velho, pior que coxinha de péssima qualidade... O queijinho de entrada estava bom, as bebidas tbb... A conta deu 190,00, um casal com 1 criança. Pode ter certeza, que não voltaremos mais.\n",
    "'''.strip()\n",
    "\n",
    "inference(model, gen_input(comment), temperature=0.5)"
   ]
  },
  {
   "cell_type": "code",
   "execution_count": null,
   "metadata": {},
   "outputs": [],
   "source": []
  }
 ],
 "metadata": {
  "kernelspec": {
   "display_name": "llm",
   "language": "python",
   "name": "python3"
  },
  "language_info": {
   "codemirror_mode": {
    "name": "ipython",
    "version": 3
   },
   "file_extension": ".py",
   "mimetype": "text/x-python",
   "name": "python",
   "nbconvert_exporter": "python",
   "pygments_lexer": "ipython3",
   "version": "3.11.3"
  },
  "orig_nbformat": 4
 },
 "nbformat": 4,
 "nbformat_minor": 2
}
