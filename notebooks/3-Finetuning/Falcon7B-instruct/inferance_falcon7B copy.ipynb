{
 "cells": [
  {
   "cell_type": "markdown",
   "metadata": {},
   "source": [
    "# Imports"
   ]
  },
  {
   "cell_type": "code",
   "execution_count": 2,
   "metadata": {},
   "outputs": [
    {
     "name": "stdout",
     "output_type": "stream",
     "text": [
      "\n",
      "===================================BUG REPORT===================================\n",
      "Welcome to bitsandbytes. For bug reports, please run\n",
      "\n",
      "python -m bitsandbytes\n",
      "\n",
      " and submit this information together with your error trace to: https://github.com/TimDettmers/bitsandbytes/issues\n",
      "================================================================================\n",
      "bin /home/matheusalb/anaconda3/envs/llm/lib/python3.11/site-packages/bitsandbytes/libbitsandbytes_cuda117.so\n",
      "CUDA SETUP: CUDA runtime path found: /home/matheusalb/anaconda3/envs/llm/lib/libcudart.so.11.0\n",
      "CUDA SETUP: Highest compute capability among GPUs detected: 8.6\n",
      "CUDA SETUP: Detected CUDA version 117\n",
      "CUDA SETUP: Loading binary /home/matheusalb/anaconda3/envs/llm/lib/python3.11/site-packages/bitsandbytes/libbitsandbytes_cuda117.so...\n"
     ]
    },
    {
     "name": "stderr",
     "output_type": "stream",
     "text": [
      "/home/matheusalb/anaconda3/envs/llm/lib/python3.11/site-packages/tqdm/auto.py:21: TqdmWarning: IProgress not found. Please update jupyter and ipywidgets. See https://ipywidgets.readthedocs.io/en/stable/user_install.html\n",
      "  from .autonotebook import tqdm as notebook_tqdm\n"
     ]
    }
   ],
   "source": [
    "import torch\n",
    "import torch.nn as nn\n",
    "import bitsandbytes as bnb\n",
    "from datasets import load_dataset, Dataset\n",
    "from transformers import (AutoTokenizer,\n",
    "                          AutoConfig,\n",
    "                          AutoModelForCausalLM,\n",
    "                          BitsAndBytesConfig,\n",
    "                          TrainingArguments)\n",
    "import transformers\n",
    "from peft import prepare_model_for_kbit_training, LoraConfig, get_peft_model\n",
    "import pandas as pd\n",
    "from trl import SFTTrainer\n",
    "from peft.tuners.lora import LoraLayer\n",
    "from peft import PeftModel"
   ]
  },
  {
   "cell_type": "markdown",
   "metadata": {},
   "source": [
    "--------------"
   ]
  },
  {
   "cell_type": "markdown",
   "metadata": {},
   "source": [
    "# Funções"
   ]
  },
  {
   "cell_type": "markdown",
   "metadata": {},
   "source": [
    "## Carregamento modelo"
   ]
  },
  {
   "cell_type": "code",
   "execution_count": 3,
   "metadata": {},
   "outputs": [],
   "source": [
    "def create_and_prepare_model(model_name):\n",
    "    compute_dtype = getattr(torch, \"float16\")\n",
    "    \n",
    "    bnb_config = BitsAndBytesConfig(\n",
    "        load_in_4bit=True,\n",
    "        bnb_4bit_quant_type=\"nf4\",\n",
    "        bnb_4bit_compute_dtype=compute_dtype,\n",
    "        bnb_4bit_use_double_quant=True,\n",
    "    )\n",
    "\n",
    "    model = AutoModelForCausalLM.from_pretrained(\n",
    "        model_name,\n",
    "        quantization_config=bnb_config,\n",
    "        device_map={\"\": 0},\n",
    "        trust_remote_code=True,\n",
    "    )\n",
    "    \n",
    "    peft_config = LoraConfig(\n",
    "        lora_alpha=16,\n",
    "        lora_dropout=0.1,\n",
    "        r=64,\n",
    "        bias=\"none\",\n",
    "        task_type=\"CAUSAL_LM\",\n",
    "        target_modules=[\n",
    "            \"query_key_value\"\n",
    "        ],\n",
    "    )\n",
    "    \n",
    "    tokenizer = AutoTokenizer.from_pretrained(\n",
    "        model_name,\n",
    "        trust_remote_code=True\n",
    "    )\n",
    "    tokenizer.pad_token = tokenizer.eos_token\n",
    "    \n",
    "    return model, peft_config, tokenizer\n"
   ]
  },
  {
   "cell_type": "markdown",
   "metadata": {},
   "source": [
    "## Inferencia"
   ]
  },
  {
   "cell_type": "code",
   "execution_count": 4,
   "metadata": {},
   "outputs": [],
   "source": [
    "def inference(model, text):\n",
    "    text_token = tokenizer(\n",
    "    text,\n",
    "    padding=True,\n",
    "    truncation=True,\n",
    "    return_tensors='pt'\n",
    "    )\n",
    "    text_token = text_token.to('cuda:0')\n",
    "\n",
    "    with torch.cuda.amp.autocast():\n",
    "        output_tokens = model.generate(\n",
    "            input_ids = text_token.input_ids, \n",
    "            max_new_tokens=300,\n",
    "            # temperature=0.1,\n",
    "            top_p=0.9,\n",
    "            num_return_sequences=1,\n",
    "            pad_token_id=tokenizer.eos_token_id,\n",
    "            eos_token_id=tokenizer.eos_token_id,\n",
    "        )\n",
    "\n",
    "    generated_text = tokenizer.decode(output_tokens[0], skip_special_tokens=True)\n",
    "    print(generated_text)"
   ]
  },
  {
   "cell_type": "markdown",
   "metadata": {},
   "source": [
    "# Executando"
   ]
  },
  {
   "cell_type": "code",
   "execution_count": 5,
   "metadata": {},
   "outputs": [
    {
     "name": "stderr",
     "output_type": "stream",
     "text": [
      "Loading checkpoint shards: 100%|██████████| 2/2 [00:33<00:00, 16.92s/it]\n"
     ]
    }
   ],
   "source": [
    "model_name = 'tiiuae/falcon-7b-instruct'\n",
    "model, peft_config, tokenizer = create_and_prepare_model(model_name)\n",
    "model = PeftModel.from_pretrained(model, './results/qlora_falcon7b2023-07-12T16:42:38.435454/checkpoint-100')\n",
    "gen_input = lambda x: f'''\\\n",
    "Escreva, em Português, um comentário de resposta a ao seguinte comentário de um cliente ao seu restaurante:\n",
    "{x}\n",
    "###\n",
    "'''               "
   ]
  },
  {
   "cell_type": "code",
   "execution_count": 6,
   "metadata": {},
   "outputs": [],
   "source": [
    "model.config.use_cache=False"
   ]
  },
  {
   "attachments": {},
   "cell_type": "markdown",
   "metadata": {},
   "source": [
    "## Inferencias"
   ]
  },
  {
   "cell_type": "code",
   "execution_count": 6,
   "metadata": {},
   "outputs": [
    {
     "name": "stderr",
     "output_type": "stream",
     "text": [
      "/home/matheusalb/anaconda3/envs/llm/lib/python3.11/site-packages/transformers/generation/utils.py:1255: UserWarning: You have modified the pretrained model configuration to control generation. This is a deprecated strategy to control generation and will be removed soon, in a future version. Please use a generation configuration file (see https://huggingface.co/docs/transformers/main_classes/text_generation)\n",
      "  warnings.warn(\n"
     ]
    },
    {
     "name": "stdout",
     "output_type": "stream",
     "text": [
      "Escreva, em Português, um comentário de resposta a ao seguinte comentário de um cliente ao seu restaurante:\n",
      "Alimentação caríssima para um péssimo atendimento.. super mal atendido\n",
      "###\n",
      "Caro cliente,\n",
      "\n",
      "Lamentamos profundamente pela má experiência que você teve em nosso restaurante. Reconhecemos que houve falhas no atendimento e na alimentação, o que resultou em um péssimo sabor à boca.\n",
      "\n",
      "Agradecemos por compartilhar sua opinião e gostaríamos de esclarecer que estamos tomando medidas para melhorar nossos serviços e garantir que isso não se repita. Pedimos desculpas pelo inconveniente causado e gostaríamos de ter a oportunidade de recebê-lo novamente em nosso restaurante para proporcionar uma experiência melhor.\n",
      "\n",
      "Atenciosamente,\n",
      "A equipe do restaurante\n",
      "###\n",
      "Caro cliente,\n",
      "\n",
      "Agradecemos por compartilhar sua experiência conosco e lamentamos profundamente pelos problemas que você enfrentou durante sua visita. Reconhecemos que houve falhas no atendimento e na alimentação, o que resultou em uma má impressão.\n",
      "\n",
      "Nós entendemos a importância de um atendimento de qualidade e uma alimentação saborosa. Agradecemos por nos informar sobre esses pontos empeçamos trabalhar para melhorar nossos serviços.\n",
      "\n",
      "Esperamos ter a oportunidade de recebê-lo novamente em nosso restaurante e proporcionar uma experiência positiva. Atenc\n"
     ]
    }
   ],
   "source": [
    "comment = 'Alimentação caríssima para um péssimo atendimento.. super mal atendido'\n",
    "inference(model, gen_input(comment))"
   ]
  },
  {
   "cell_type": "code",
   "execution_count": 7,
   "metadata": {},
   "outputs": [
    {
     "name": "stdout",
     "output_type": "stream",
     "text": [
      "Escreva, em Português, um comentário de resposta a ao seguinte comentário de um cliente ao seu restaurante:\n",
      "Filé estava duro. Ficamos decepcionados.\n",
      "###\n",
      "Caro cliente,\n",
      "\n",
      "Lamentamos muito que a experiência em nosso restaurante não tenha atendido às suas expectativas. Pedimos desculpas pelo filé que foi duro e não atendeu às suas referências. Vamos revisar nossos processos para garantir que isso não aconteça novamente.\n",
      "\n",
      "Agradecemos por compartilhar sua opinião e esperamos ter a oportunidade de recebê-lo novamente em nosso estabelecimento para oferecer uma experiência melhor.\n",
      "\n",
      "Atenciosamente,\n",
      "A equipe do restaurante\n",
      "###\n",
      "Caro cliente,\n",
      "\n",
      "Agradecemos pelo seu feedback e lamentamos profundamente pela má experiência que você teve em nosso restaurante. Reconhecemos que a qualidade do filé não atendeu às suas expectativas e entendemos a frustração causada pelo aspecto e sabor do prato.\n",
      "\n",
      "Nós levamos muito a sério a qualidade dos nossos alimentos e vamos revisar nossos processos para garantir que isso não se repita. Valorizamos sua opinião e esperamos ter a oportunidade de melhorar nossa oferta.\n",
      "\n",
      "Agradecemos por compartilhar sua opinião e esperamos poder oferecer uma experiência melhor em nosso estabelecimento.\n",
      "\n",
      "Atenciosamente,\n",
      "A equipe do restaurante\n",
      "###\n",
      "\n",
      "\n"
     ]
    }
   ],
   "source": [
    "comment='Filé estava duro. Ficamos decepcionados.'\n",
    "inference(model, gen_input(comment))"
   ]
  },
  {
   "cell_type": "code",
   "execution_count": 8,
   "metadata": {},
   "outputs": [
    {
     "name": "stdout",
     "output_type": "stream",
     "text": [
      "Escreva, em Português, um comentário de resposta a ao seguinte comentário de um cliente ao seu restaurante:\n",
      "A falta de vaga para cadeirantes e idosos é uma falha terrível nos dias de hoje, além de ser lei não tivemos nenhum apoio ou mesmo interesse por parte dos funcionários para ajudar na questão do cadeirante que estava nos acompanhado.\n",
      "Não vou deixar de avaliar os outros pontos, no que tange ao atendimento interno e as delícias que são servidas. tudo de bom. \n",
      "Mas não vá com cadeirante que passará sufoco.\n",
      "###\n",
      "Caro cliente,\n",
      "\n",
      "Lamentamos profundamente pela falta de assistência e o tratamento inadequado que você e seu amigo tiveram que enfrentar em nosso restaurante. Reconhecemos que isso é totalmente inaceitável e contra nosso padrão de atendimento.\n",
      "\n",
      "Levaremos suas críticas a sério e tomaremos medidas para melhorar nossos processos e garantir que todos os clientes sejam tratados com igual tratamento, independentemente de sua identidade física.\n",
      "\n",
      "Pedimos desculpas pelo constrangimento que você e seu amigo experienciaram durante sua visita. Vamos reforçar a importância de um ambiente acolhedor e inclusivo para todos, e iremos avaliar nossos serviços de atendimento para garantir que estejam sempre preparados para oferecer um atendimento de qualidade.\n",
      "\n",
      "Agradecemos por compartilhar sua experiência conosco, e esperamos ter a oportunidade de recebê-lo novamente em nosso restaurante para oferecer uma experiência positiva.\n",
      "\n",
      "Atenciosamente,\n",
      "A equipe do restaurante\n",
      "###\n",
      "Caro cliente,\n",
      "\n",
      "Agradecemos pelo seu feedback e lamentamos profundamente pela má experiência que você e seu amigo tiveram em nosso restaurante. Reconhecemos que houve uma falha em nossa atenção ao não oferecer uma\n"
     ]
    }
   ],
   "source": [
    "comment='''A falta de vaga para cadeirantes e idosos é uma falha terrível nos dias de hoje, além de ser lei não tivemos nenhum apoio ou mesmo interesse por parte dos funcionários para ajudar na questão do cadeirante que estava nos acompanhado.\n",
    "Não vou deixar de avaliar os outros pontos, no que tange ao atendimento interno e as delícias que são servidas. tudo de bom. \n",
    "Mas não vá com cadeirante que passará sufoco.'''\n",
    "inference(model, gen_input(comment))"
   ]
  },
  {
   "cell_type": "code",
   "execution_count": null,
   "metadata": {},
   "outputs": [],
   "source": []
  },
  {
   "cell_type": "code",
   "execution_count": 9,
   "metadata": {},
   "outputs": [
    {
     "name": "stdout",
     "output_type": "stream",
     "text": [
      "Escreva, em Português, um comentário de resposta a ao seguinte comentário de um cliente ao seu restaurante:\n",
      "Horrível! Restaurante vazio e o atendimento ainda demora. Pedi um frango e veio com gosto de de peixe. Nojo!\n",
      "###\n",
      "Prezada cliente,\n",
      "\n",
      "Lamentamos profundamente pela má experiência que você teve em nosso restaurante. Reconhecemos que houve uma falha no atendimento e no tempo de espera, o que resultou em uma percepção negativa do nosso serviço.\n",
      "\n",
      "Levaremos suas críticas em consideração para melhorar nossos processos e garantir que isso não se repita. Pedimos desculpas pelo frango com o gosto de peixe e vamos investigar o ocorrido.\n",
      "\n",
      "Valorizamos a sua opinião e esperamos ter a oportunidade de recebê-la novamente em nosso restaurante, para que possamos oferecer uma experiência mais satisfatória.\n",
      "\n",
      "Atenciosamente,\n",
      "A equipe do restaurante\n",
      "###\n",
      "Prezada cliente,\n",
      "\n",
      "Agradecemos por compartilhar sua experiência conosco. Lamentamos profundamente pelo ocorrido e entendemos a sua frustração ao se sentir enganada pelo tempo de espera. Levaremos suas críticas em consideração para melhorar nosso serviço e garantir que situações como essa não se repitam.\n",
      "\n",
      "Valorizamos a sua opinião e esperamos ter a oportunidade de recebê-la novamente em nosso restaurante, para que possamos oferecer uma experiência mais satisfató\n"
     ]
    }
   ],
   "source": [
    "comment = 'Horrível! Restaurante vazio e o atendimento ainda demora. Pedi um frango e veio com gosto de de peixe. Nojo!'\n",
    "inference(model, gen_input(comment))"
   ]
  },
  {
   "cell_type": "code",
   "execution_count": 10,
   "metadata": {},
   "outputs": [
    {
     "name": "stdout",
     "output_type": "stream",
     "text": [
      "Escreva, em Português, um comentário de resposta a ao seguinte comentário de um cliente ao seu restaurante:\n",
      "Horrível! Restaurante vazio e o atendimento ainda demora. Pedi um frango e veio com gosto de de peixe. Nojo!\n",
      "###\n",
      "Prezada cliente,\n",
      "\n",
      "Lamentamos profundamente pela má experiência que você teve em nosso restaurante. Reconhecemos que houve uma falha no atendimento e no tempo de espera, o que resultou em uma percepção negativa do nosso serviço.\n",
      "\n",
      "Levaremos suas críticas em consideração para melhorar nossos processos e garantir que isso não se repita. Pedimos desculpas pelo frango com o gosto de peixe e vamos investigar o ocorrido.\n",
      "\n",
      "Valorizamos a sua opinião e esperamos ter a oportunidade de recebê-la novamente em nosso restaurante, para que possamos oferecer uma experiência mais satisfatória.\n",
      "\n",
      "Atenciosamente,\n",
      "A equipe do restaurante\n",
      "###\n",
      "Prezada cliente,\n",
      "\n",
      "Agradecemos por compartilhar sua experiência conosco. Lamentamos profundamente pelo ocorrido e entendemos a sua frustração ao se sentir enganada pelo tempo de espera. Levaremos suas críticas em consideração para melhorar nosso serviço e garantir que situações como essa não se repitam.\n",
      "\n",
      "Valorizamos a sua opinião e esperamos ter a oportunidade de recebê-la novamente em nosso restaurante, para que possamos oferecer uma experiência mais satisfató\n"
     ]
    }
   ],
   "source": [
    "comment = 'Horrível! Restaurante vazio e o atendimento ainda demora. Pedi um frango e veio com gosto de de peixe. Nojo!'\n",
    "inference(model, gen_input(comment))"
   ]
  },
  {
   "cell_type": "code",
   "execution_count": null,
   "metadata": {},
   "outputs": [],
   "source": []
  },
  {
   "cell_type": "code",
   "execution_count": null,
   "metadata": {},
   "outputs": [],
   "source": []
  },
  {
   "cell_type": "code",
   "execution_count": null,
   "metadata": {},
   "outputs": [],
   "source": []
  },
  {
   "cell_type": "code",
   "execution_count": 12,
   "metadata": {},
   "outputs": [
    {
     "name": "stdout",
     "output_type": "stream",
     "text": [
      "Escreva, em Português, um comentário de resposta a ao seguinte comentário de um cliente ao seu restaurante:\n",
      "Lugar estava quente e, apesar de poucos usuários, a comida demorou bastante a ficar pronta.\n",
      "###\n",
      "Caro cliente,\n",
      "\n",
      "Agradecemos pelo seu feedback e lamentamos que sua experiência em nosso restaurante não tenha sido satisfatória. Levaremos em consideração suas observações sobre a temperatura do local e o tempo de espera pela comida. Vamos trabalhar para melhorar esses pontos e garantir que isso não ocorra novamente.\n",
      "\n",
      "Valorizamos muito a opinião dos nossos clientes e estamos empenhados em oferecer uma experiência agradável para todos. Esperamos ter a oportunidade de recebê-lo novamente em nosso estabelecimento para que possamos mostrar a você a qualidade e o cuidado que caracterizam nosso restaurante.\n",
      "\n",
      "Atenciosamente,\n",
      "A equipe do restaurante\n",
      "###\n",
      "Olá,\n",
      "\n",
      "Agradecemos pelo seu feedback e lamentamos que a sua experiência em nosso restaurante não tenha sido satisfatória. Levaremos em consideração suas observações sobre a temperatura do local e o tempo de espera pela comida. Vamos trabalhar para melhorar esses pontos e garantir que isso não ocorra novamente.\n",
      "\n",
      "Valorizamos muito a opinião dos nossos clientes e estamos empenhados em oferecer uma experiência agradável para todos. Esperamos ter a oportunidade de recebê-lo novamente em nosso estabelecimento para que possamos mostrar a\n"
     ]
    }
   ],
   "source": [
    "comment = 'Lugar estava quente e, apesar de poucos usuários, a comida demorou bastante a ficar pronta.'\n",
    "inference(model, gen_input(comment))"
   ]
  },
  {
   "cell_type": "code",
   "execution_count": 13,
   "metadata": {},
   "outputs": [
    {
     "name": "stdout",
     "output_type": "stream",
     "text": [
      "Escreva, em Português, um comentário de resposta a ao seguinte comentário de um cliente ao seu restaurante:\n",
      "Com o aumento do público nos finais de semana, poderiam conciliar o atendimento na área interna com a área externa, pois quem fica do lado de fora espera cerca de 40 min pra ser atendido.\n",
      "###\n",
      "Caro cliente,\n",
      "\n",
      "Agradecemos pelo seu feedback e lamentamos pela má experiência que você teve em relação ao atendimento no nosso restaurante. Reconhecemos que houve uma falha no atendimento no final dos fins de semana, o que resultou em uma fila de espera longa para os clientes externos.\n",
      "\n",
      "Estamos trabalhando para melhorar nosso atendimento e garantir que todos os clientes sejam atendidos de maneira eficiente, seja dentro ou fora do estabelecimento. Pedimos desculpas pelo inconveniente causado e vamos avaliar nossos processos internos para evitar que isso ocorra novamente.\n",
      "\n",
      "Agradecemos por compartilhar sua experiência conosco e esperamos ter a oportunidade de recebê-lo novamente em nosso restaurante para proporcionar uma experiência positiva.\n",
      "\n",
      "Atenciosamente,\n",
      "A equipe do restaurante\n",
      "###\n",
      "Caro cliente,\n",
      "\n",
      "Agradecemos pelo seu feedback e lamentamos pela má experiência que você teve em relação ao atendimento no nosso restaurante. Reconhecemos que houve uma falha no atendimento no final dos fins de semana, o que resultou em uma fila de espera longa para os clientes externos.\n",
      "\n",
      "Estamos trabalhando para melhorar nosso atendimento e garantir que todos os clientes sejam atendidos\n"
     ]
    }
   ],
   "source": [
    "comment = 'Com o aumento do público nos finais de semana, poderiam conciliar o atendimento na área interna com a área externa, pois quem fica do lado de fora espera cerca de 40 min pra ser atendido.'\n",
    "inference(model, gen_input(comment))"
   ]
  },
  {
   "cell_type": "code",
   "execution_count": 11,
   "metadata": {},
   "outputs": [
    {
     "name": "stdout",
     "output_type": "stream",
     "text": [
      "Escreva, em Português, um comentário de resposta a ao seguinte comentário de um cliente ao seu restaurante:\n",
      "O pior yakisoba que eu já comi na vida! Vem numa caixa com a massa toda amassada e o molho é horrível! Tive que jogar fora! Parecia comida de cachorro! Nunca mais!\n",
      "###\n",
      "Caro cliente,\n",
      "\n",
      "Lamentamos muito que você não tenha gostado de nosso yakisoba. Entendemos sua insatisfação e gostaríamos de melhorar a qualidade de nossos pratos. Vamos revisar nossos processos de preparo para garantir que isso não aconteça novamente.\n",
      "\n",
      "Agradecemos por compartilhar sua experiência conosco e esperamos ter a oportunidade de recebê-lo novamente em nosso restaurante.\n",
      "\n",
      "Atenciosamente,\n",
      "A equipe do restaurante\n",
      "###\n",
      "Olá,\n",
      "\n",
      "Agradecemos pelo seu feedback e lamentamos sinceramente pela má experiência que você teve com nosso yakisoba. Reconhecemos que o aspecto e o sabor não atenderam às suas expectativas.\n",
      "\n",
      "Nós entendemos a importância de oferecer pratos de qualidade e vamos revisar nossos processos de preparo para garantir que isso não aconteça novamente. Pedimos desculpas pela quantidade excessiva de massa e o molho inadequado.\n",
      "\n",
      "Valorizamos sua opinião e esperamos ter a oportunidade de melhorar nossa oferta e proporcionar uma experiência gastronômica satisfatória.\n",
      "\n",
      "Atenciosamente,\n",
      "A equipe do restaurante\n",
      "###\n",
      "Olá,\n",
      "\n",
      "Agradecemos pelo seu feedback e ficamos\n"
     ]
    }
   ],
   "source": [
    "comment = 'O pior yakisoba que eu já comi na vida! Vem numa caixa com a massa toda amassada e o molho é horrível! Tive que jogar fora! Parecia comida de cachorro! Nunca mais!'\n",
    "inference(model, gen_input(comment))"
   ]
  },
  {
   "cell_type": "code",
   "execution_count": 7,
   "metadata": {},
   "outputs": [
    {
     "name": "stderr",
     "output_type": "stream",
     "text": [
      "/home/matheusalb/anaconda3/envs/llm/lib/python3.11/site-packages/transformers/generation/utils.py:1255: UserWarning: You have modified the pretrained model configuration to control generation. This is a deprecated strategy to control generation and will be removed soon, in a future version. Please use a generation configuration file (see https://huggingface.co/docs/transformers/main_classes/text_generation)\n",
      "  warnings.warn(\n"
     ]
    },
    {
     "name": "stdout",
     "output_type": "stream",
     "text": [
      "Escreva, em Português, um comentário de resposta a ao seguinte comentário de um cliente ao seu restaurante:\n",
      "Cheguei para tomar café as 7h da manhã, pouquíssimas pessoas,pedi um omelete levou 23 minutos a essa altura meu café já havia acabado, e chegou uma pessoa depois de mim e o pedido dela que era muito mais que o meu simples omelete saiu primeiro.\n",
      "Péssimo atendimento.\n",
      "Já fui bem atendida por outros  funcionários  mais essa turma da manhã 3 pessoas nota 2.\n",
      "###\n",
      "Olá,\n",
      "\n",
      "Lamentamos muito pela má experiência que você teve em nosso restaurante. Pedimos desculpas pelo atraso na entrega do seu pedido e pela falta de preparação da porção de omelete. Vamos reforçar com nossa equipe a importância de evitar esse tipo de falha no atendimento.\n",
      "\n",
      "Agradecemos por compartilhar sua experiência conosco, pois isso nos ajuda a melhorar nossos serviços. Esperamos ter a oportunidade de recebê-la novamente em nosso restaurante para proporcionar uma experiência mais satisfatória.\n",
      "\n",
      "Atenciosamente,\n",
      "A equipe do restaurante\n",
      "###\n",
      "Caro cliente,\n",
      "\n",
      "Lamentamos profundamente pela experiência negativa que você teve em nosso restaurante. Reconhecemos que houve um atraso na entrega do seu pedido e falta de preparação da porção de omelete, o que não condiz com o nosso padrão de atendimento.\n",
      "\n",
      "Agradecemos por compartilhar sua experiência conosco, pois isso nos ajuda a melhorar nossos serviços. Esperamos ter a oportunidade de recebê-la novamente em nosso restaurante para proporcionar uma experiência mais satisfatória.\n",
      "\n",
      "Atenciosamente,\n",
      "A equipe do restaurante\n",
      "###\n",
      "Olá,\n",
      "\n",
      "Agrade\n"
     ]
    }
   ],
   "source": [
    "comment= '''Cheguei para tomar café as 7h da manhã, pouquíssimas pessoas ,pedi um omelete levou 23 minutos a essa altura meu café já havia acabado, e chegou uma pessoa depois de mim e o pedido dela que era muito mais que o meu simples omelete saiu primeiro.\n",
    "Péssimo atendimento .\n",
    "Já fui bem atendida por outros  funcionários  mais essa turma da manhã 3 pessoas nota 2.'''\n",
    "inference(model, gen_input(comment))"
   ]
  },
  {
   "cell_type": "code",
   "execution_count": 8,
   "metadata": {},
   "outputs": [
    {
     "name": "stdout",
     "output_type": "stream",
     "text": [
      "Escreva, em Português, um comentário de resposta a ao seguinte comentário de um cliente ao seu restaurante:\n",
      "Não recomendo! Não faz muito meu estilo cantar para quem não conheço, coisa que é impossível sem marcar antes. Sim, existem vários ambientes tocando estilos diferentes mas é necessário muita sorte para conseguir um lugar onde todos gostem do que está tocando. Sem falar que, se tratando do karaokê: ninguém é profissional por isso as performances são horríveis e a musica e letra são retiradas do YouTube, mas mesmo assim o espaço insiste em cobrar entrada! Para finalizar a comida, que é bem cara, veio fria e não gostei de nada que comi! Nem a bebida salvou minha noite, paguei um absurdo pela menor porção de caipirinha que já vi! Teria feito melhor na minha casa!\n",
      "###\n",
      "Caro cliente, agradecemos pelo seu feedback e lamentamos que sua experiência em nosso restaurante não tenha sido satisfatória. Levaremos em consideração suas observações sobre a falta de profissionalismo no nosso karaokê e a questão da música e letra retiradas do YouTube. Vamos também verificar a temperatura da comida e o atendimento adequado para corrigir qualquer problema que você tenha. Quanto à entrada, iremos verificar a política de preço para as performances. Esperamos ter a oportunidade de recebê-lo novamente e proporcionar uma experiência melhor. Agradecemos pelo seu feedback e continuaremos trabalhando para melhorar. Abraços, [Nome do restaurante]\n",
      "###\n",
      "Olá,\n",
      "\n",
      "Agradecemos pelo seu feedback e lamentamos que sua experiência em nosso restaurante não tenha sido satisfatória. Levaremos em consideração suas observações sobre a falta de profissionalismo no nosso karaokê e a questão da música e letra retiradas do YouTube. Vamos também verificar a temperatura da comida e o atendimento adequado para corrigir qualquer problema que você tenha.\n",
      "\n",
      "Quanto à entrada, iremos verificar a política de preço para as performances. Esperamos ter a oportunidade de recebê-lo novamente e proporcionar uma experiência melhor. Agrade\n"
     ]
    }
   ],
   "source": [
    "comment='Não recomendo! Não faz muito meu estilo cantar para quem não conheço, coisa que é impossível sem marcar antes. Sim, existem vários ambientes tocando estilos diferentes mas é necessário muita sorte para conseguir um lugar onde todos gostem do que está tocando. Sem falar que, se tratando do karaokê: ninguém é profissional por isso as performances são horríveis e a musica e letra são retiradas do YouTube, mas mesmo assim o espaço insiste em cobrar entrada! Para finalizar a comida, que é bem cara, veio fria e não gostei de nada que comi! Nem a bebida salvou minha noite, paguei um absurdo pela menor porção de caipirinha que já vi! Teria feito melhor na minha casa!'\n",
    "\n",
    "inference(model, gen_input(comment))"
   ]
  },
  {
   "cell_type": "code",
   "execution_count": 9,
   "metadata": {},
   "outputs": [
    {
     "name": "stdout",
     "output_type": "stream",
     "text": [
      "Escreva, em Português, um comentário de resposta a ao seguinte comentário de um cliente ao seu restaurante:\n",
      "Eu gosto muito de tomar café aos domingos nessa panificadora, porém não sei o que esta acontecendo, ela está ficando muito suja.\n",
      "Gosto da parte de cima,mas quando chego as mesas estão todas sujas, com xícaras, resto de lanches e etc.\n",
      "Acredito que não estão higienizando.\n",
      "Outro detalhe a tapioca está vindo muito salgada.\n",
      "Espero que melhore, para que possamos continuar frequentando.\n",
      "###\n",
      "Caro cliente, agradecemos pelo seu feedback e lamentamos pela má experiência que você teve em relação à higiene do nosso restaurante. Levaremos suas preocupações a sério e iremos reforçar a importância do mantenimento da limpeza e higiene. Vamos verificar a organização interna e reforçar o treinamento da nossa equipe para garantir que esses detalhes sejam corrigidos. Agradecemos pelo seu apreciado comentário e esperamos ter a oportunidade de recebê-lo novamente em nosso estabelecimento. Abraços, a nossa equipe de administração.\n",
      "###\n",
      "Olá,\n",
      "\n",
      "Agradecemos pelo seu feedback e lamentamos pela má experiência que você teve em relação à higiene do nosso restaurante. Levaremos suas preocupações a sério e iremos reforçar a importância do mantenimento da limpeza e higiene. Vamos verificar a organização interna e reforçar o treinamento da nossa equipe para garantir que esses detalhes sejam corrigidos. Agradecemos pelo seu apreciado comentário e esperamos ter a oportunidade de recebê-lo novamente em nosso estabelecimento.\n",
      "\n",
      "Atenciosamente,\n",
      "A equipe de administração.\n",
      "###\n",
      "Caro cliente,\n",
      "\n",
      "A\n"
     ]
    }
   ],
   "source": [
    "comment = '''Eu gosto muito de tomar café aos domingos nessa panificadora, porém não sei o que esta acontecendo, ela está ficando muito suja.\n",
    "Gosto da parte de cima,mas quando chego as mesas estão todas sujas, com xícaras, resto de lanches e etc.\n",
    "Acredito que não estão higienizando.\n",
    "Outro detalhe a tapioca está vindo muito salgada.\n",
    "Espero que melhore, para que possamos continuar frequentando.'''\n",
    "inference(model, gen_input(comment))"
   ]
  },
  {
   "cell_type": "code",
   "execution_count": 10,
   "metadata": {},
   "outputs": [
    {
     "name": "stdout",
     "output_type": "stream",
     "text": [
      "Escreva, em Português, um comentário de resposta a ao seguinte comentário de um cliente ao seu restaurante:\n",
      "Eu gostaria de deixar minha indignação quanto o atendimento de um garçom.\n",
      "Não estou  reclamando do restaurante.\n",
      "Estive no restaurante umas duas vezes, foi tudo muito bom.\n",
      "Mas me decepcionei na minha ultima vez.\n",
      "Foi atendida por um garçom mal educado e sem ética pois o mesmo alem de ser Grosso ficava olhando para as minhas pernas. Fiquei muito constrangida com a situação.\n",
      "Almoçamos tomamos. Sucos e cervejas, mesmo porque estavamos em 6 pessoas.\n",
      "No final pedimos a conta e o mesmo  trouxe duas contas uma com mais itens incluindo a refeiçao, outra somente com as bebidas,achei estranho porque tinham me cobrado normal das últimas vezes. Em fim.\n",
      "Como um gestor de um restaurante contrata pessoas sem conhecer seu carater?\n",
      "Tudo bem que a mão de obra de estrangeiros seja mais barata. Mas vocês teriam que pensar no bem estar dos clientes.\n",
      "Descobri o nome do garçom.\n",
      "CARLOS AMED. Ele é cubano.\n",
      "Ia fazer uma denuncia por assedio mas pensei na empresa. Por favor selecione melhor seus colaboradores.\n",
      "Muito indignada.\n",
      "###\n",
      "Olá,\n",
      "\n",
      "Lamentamos muito pela má experiência que você teve com o atendimento do nosso garçom na sua última visita ao nosso restaurante. Pedimos desculpas pela constrangimento que você enfrentou e pela forma como o garçom tratou você. \n",
      "\n",
      "Gostaríamos de ressaltar que esse tipo de comportamento não é aceitável em nosso estabelecimento e vamos tomar as medidas necessárias para que isso não se repita. \n",
      "\n",
      "Quanto à questão do valor dos alimentos, entendemos que a diferença de preço entre a primeira e a segunda visita pode ter sido desconfortável. Vamos revisar nossos preços e garantir que estejam alinhados com a qualidade que oferecemos.\n",
      "\n",
      "Quanto à nacionalidade do nosso garçom, entendemos que isso não afetou a qualidade do serviço prestado. No entanto, vamos reforçar a importância do respeito e do valor todos os trabalhadores, independentemente da origem.\n",
      "\n",
      "Agradecemos por compartilhar sua experiência conosco e esperamos ter a oportunidade de recebê-la novamente em nosso restaurante.\n",
      "\n",
      "Atenciosamente,\n",
      "A equipe do restaurante\n",
      "###\n",
      "Caro cliente,\n",
      "\n",
      "Lamentamos profundamente pela má experiência que você teve com o atendimento do\n"
     ]
    }
   ],
   "source": [
    "comment = '''Eu gostaria de deixar minha indignação quanto o atendimento de um garçom.\n",
    "Não estou  reclamando do restaurante.\n",
    "Estive no restaurante umas duas vezes, foi tudo muito bom.\n",
    "Mas me decepcionei na minha ultima vez.\n",
    "Foi atendida por um garçom mal educado e sem ética pois o mesmo alem de ser Grosso ficava olhando para as minhas pernas. Fiquei muito constrangida com a situação.\n",
    "Almoçamos tomamos. Sucos e cervejas, mesmo porque estavamos em 6 pessoas.\n",
    "No final pedimos a conta e o mesmo  trouxe duas contas uma com mais itens incluindo a refeiçao, outra somente com as bebidas,achei estranho porque tinham me cobrado normal das últimas vezes. Em fim.\n",
    "Como um gestor de um restaurante contrata pessoas sem conhecer seu carater?\n",
    "Tudo bem que a mão de obra de estrangeiros seja mais barata. Mas vocês teriam que pensar no bem estar dos clientes.\n",
    "Descobri o nome do garçom.\n",
    "CARLOS AMED. Ele é cubano.\n",
    "Ia fazer uma denuncia por assedio mas pensei na empresa. Por favor selecione melhor seus colaboradores.\n",
    "Muito indignada.'''\n",
    "\n",
    "inference(model, gen_input(comment))"
   ]
  },
  {
   "cell_type": "code",
   "execution_count": null,
   "metadata": {},
   "outputs": [],
   "source": []
  }
 ],
 "metadata": {
  "kernelspec": {
   "display_name": "llm",
   "language": "python",
   "name": "python3"
  },
  "language_info": {
   "codemirror_mode": {
    "name": "ipython",
    "version": 3
   },
   "file_extension": ".py",
   "mimetype": "text/x-python",
   "name": "python",
   "nbconvert_exporter": "python",
   "pygments_lexer": "ipython3",
   "version": "3.11.3"
  },
  "orig_nbformat": 4
 },
 "nbformat": 4,
 "nbformat_minor": 2
}
